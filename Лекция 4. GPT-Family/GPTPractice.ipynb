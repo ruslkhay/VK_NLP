{
 "cells": [
  {
   "cell_type": "code",
   "execution_count": null,
   "id": "40501b8c",
   "metadata": {},
   "outputs": [],
   "source": [
    "import torch\n",
    "import torch.nn.functional as F\n",
    "import transformers\n",
    "from transformers import GPT2Tokenizer, GPT2LMHeadModel"
   ]
  },
  {
   "cell_type": "code",
   "execution_count": null,
   "id": "846bb791",
   "metadata": {},
   "outputs": [],
   "source": [
    "tokenizer = GPT2Tokenizer.from_pretrained('openai-community/gpt2')"
   ]
  },
  {
   "cell_type": "code",
   "execution_count": null,
   "id": "e414e642",
   "metadata": {},
   "outputs": [],
   "source": [
    "model = GPT2LMHeadModel.from_pretrained('openai-community/gpt2')"
   ]
  },
  {
   "cell_type": "code",
   "execution_count": null,
   "id": "236c36e9",
   "metadata": {},
   "outputs": [],
   "source": [
    "model.eval()"
   ]
  },
  {
   "cell_type": "markdown",
   "id": "945685ce",
   "metadata": {},
   "source": [
    "# Задание 1:"
   ]
  },
  {
   "cell_type": "markdown",
   "id": "9d5029d1",
   "metadata": {},
   "source": [
    "Вам даны attention-скоры для последовательности ниже. Необходимо определить позицию токена, на которую больше всего \"обращал внимание\" токен на позиции 10 во второй attention head на первом слое модели *(вся упомянутая нумерация идёт с нуля)* . Ответом должен быть номер позиции:"
   ]
  },
  {
   "cell_type": "code",
   "execution_count": null,
   "id": "ec74a88e",
   "metadata": {},
   "outputs": [],
   "source": [
    "model_input = tokenizer('Границы ключ переломлен', return_tensors='pt')"
   ]
  },
  {
   "cell_type": "code",
   "execution_count": null,
   "id": "919198db",
   "metadata": {},
   "outputs": [],
   "source": [
    "model_output = model(**model_input, output_attentions=True)"
   ]
  },
  {
   "cell_type": "code",
   "execution_count": null,
   "id": "14119ba3",
   "metadata": {},
   "outputs": [],
   "source": [
    "attentions = model_output[\"attentions\"]  # Tuple of torch.FloatTensor (one for each layer) of shape (batch_size, num_heads, sequence_length, sequence_length)"
   ]
  },
  {
   "cell_type": "markdown",
   "id": "1e86a052",
   "metadata": {},
   "source": [
    "В attentions лежат веса attention для каждого слоя"
   ]
  },
  {
   "cell_type": "code",
   "execution_count": null,
   "id": "f4a850c2",
   "metadata": {},
   "outputs": [],
   "source": [
    "# YOUR CODE HERE"
   ]
  },
  {
   "cell_type": "markdown",
   "id": "a4608362",
   "metadata": {},
   "source": [
    "# Задание 2:"
   ]
  },
  {
   "cell_type": "markdown",
   "id": "cbe60c96",
   "metadata": {},
   "source": [
    "С заданной моделью model и входными данными model_input сгенерируйте продолжение входных данных с помощью beam search. Генерируем при следующих параметрах:\n",
    "- не более 30 новых токенов\n",
    "- рассматриваем топ-2 beam-а, затем из них выбирается наиболее вероятный\n",
    "- early_stopping=True, no_repeat_ngram_size=2 \n",
    "\n",
    "Ответом должна быть строка(оригинальная строка плюс всё, что вы нагенерировали), включая кавычки!\n",
    "Подробнее о генерации и её параметрах можно почитать здесь: \\\n",
    "https://huggingface.co/blog/how-to-generate"
   ]
  },
  {
   "cell_type": "code",
   "execution_count": null,
   "id": "5c7d8983",
   "metadata": {},
   "outputs": [],
   "source": [
    "generation_params = {\n",
    "    # Впишите сюда параметры для генерации\n",
    "}"
   ]
  },
  {
   "cell_type": "code",
   "execution_count": null,
   "id": "d2bd43e0",
   "metadata": {},
   "outputs": [],
   "source": [
    "out = model.generate(**model_input, **generation_params)"
   ]
  },
  {
   "cell_type": "code",
   "execution_count": null,
   "id": "bff222ec",
   "metadata": {},
   "outputs": [],
   "source": [
    "tokenizer.decode(out[0])"
   ]
  },
  {
   "cell_type": "markdown",
   "id": "a9d7c112",
   "metadata": {},
   "source": [
    "# Задание 3:"
   ]
  },
  {
   "cell_type": "markdown",
   "id": "9c01eb86",
   "metadata": {},
   "source": [
    "Даны логиты модели для следующего токена и порог p=0.95 для nucleus sampling. Посчитайте минимальное кол-во токенов, сумма вероятностей которых даёт не менее p. Ответом должно быть целое число:"
   ]
  },
  {
   "cell_type": "code",
   "execution_count": null,
   "id": "e8391128",
   "metadata": {},
   "outputs": [],
   "source": [
    "last_token_logits = model_output.logits[0][-1]\n",
    "p = 0.95"
   ]
  },
  {
   "cell_type": "code",
   "execution_count": null,
   "id": "667ba942",
   "metadata": {},
   "outputs": [],
   "source": [
    "# YOUR CODE HERE"
   ]
  },
  {
   "cell_type": "markdown",
   "id": "5461c057",
   "metadata": {},
   "source": [
    "# Задание 4:"
   ]
  },
  {
   "cell_type": "markdown",
   "id": "4d025afa",
   "metadata": {},
   "source": [
    "На лекции вам рассказывали про токены, которые \"ломают\" GPT-модели, т.е. вызывают у них неадекватное поведение. Давайте и мы попробуем найти такие токены для модели GPT2! \\\n",
    "Как их нашли в эксперименте SolidGoldMagiKarp: такие токены находились ближе всего к \"центру масс\" эмбеддингов модели, т.е. к усреднённому эмбеддингу по всем имеющимся эмбеддингам модели. Ответом на данное задание должен быть 14-ый(начиная с нуля) токен среди всех, отсортированных по убыванию расстояния от \"центра масс\":"
   ]
  },
  {
   "cell_type": "code",
   "execution_count": null,
   "id": "c2cbf602",
   "metadata": {},
   "outputs": [],
   "source": [
    "token_embeddings = model.transformer.wte.weight"
   ]
  },
  {
   "cell_type": "code",
   "execution_count": null,
   "id": "43cf91b6",
   "metadata": {},
   "outputs": [],
   "source": [
    "# YOUR CODE HERE"
   ]
  },
  {
   "cell_type": "markdown",
   "id": "c6d23242",
   "metadata": {},
   "source": [
    "# Задание 5"
   ]
  },
  {
   "cell_type": "markdown",
   "id": "d9d41d93",
   "metadata": {},
   "source": [
    "Даны логиты модели для следующего токена и температура $\\tau = 1.5$. Убедимся в том, что распределение вероятностей на токенах станет более равномерным при применении $\\tau$, т.е. у токенов с небольшой вероятностью ДО применения температуры  эта вероятность увеличится при $\\tau > 1$. Примените при подсчёте софтмакса указанное $\\tau$ и посмотрите, как увеличится вероятность токена под номером 228(отсчёт от нуля) по сравнению с вероятностью этого же токена, но БЕЗ применения температуры. Ответом должно быть число- указанная разность * 1e5 с точностью до 4 знаков  "
   ]
  },
  {
   "cell_type": "code",
   "execution_count": null,
   "id": "1a295e18",
   "metadata": {},
   "outputs": [],
   "source": [
    "last_token_logits = model_output.logits[0][-1]\n",
    "tau = 1.5"
   ]
  },
  {
   "cell_type": "code",
   "execution_count": null,
   "id": "1a2e369d",
   "metadata": {},
   "outputs": [],
   "source": [
    "# YOUR CODE HERE"
   ]
  },
  {
   "cell_type": "code",
   "execution_count": null,
   "id": "a0847869",
   "metadata": {},
   "outputs": [],
   "source": []
  }
 ],
 "metadata": {
  "kernelspec": {
   "display_name": "Python 3 (ipykernel)",
   "language": "python",
   "name": "python3"
  },
  "language_info": {
   "codemirror_mode": {
    "name": "ipython",
    "version": 3
   },
   "file_extension": ".py",
   "mimetype": "text/x-python",
   "name": "python",
   "nbconvert_exporter": "python",
   "pygments_lexer": "ipython3",
   "version": "3.9.18"
  }
 },
 "nbformat": 4,
 "nbformat_minor": 5
}
