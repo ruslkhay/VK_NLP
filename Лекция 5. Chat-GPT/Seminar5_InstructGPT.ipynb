{
 "cells": [
  {
   "cell_type": "code",
   "execution_count": null,
   "metadata": {
    "colab": {
     "base_uri": "https://localhost:8080/"
    },
    "id": "ibT7qnr_MK4f",
    "outputId": "98684de1-f8a2-4811-dff6-3068f9688fb8"
   },
   "outputs": [
    {
     "name": "stdout",
     "output_type": "stream",
     "text": [
      "Sun Mar 10 11:50:05 2024       \n",
      "+---------------------------------------------------------------------------------------+\n",
      "| NVIDIA-SMI 535.104.05             Driver Version: 535.104.05   CUDA Version: 12.2     |\n",
      "|-----------------------------------------+----------------------+----------------------+\n",
      "| GPU  Name                 Persistence-M | Bus-Id        Disp.A | Volatile Uncorr. ECC |\n",
      "| Fan  Temp   Perf          Pwr:Usage/Cap |         Memory-Usage | GPU-Util  Compute M. |\n",
      "|                                         |                      |               MIG M. |\n",
      "|=========================================+======================+======================|\n",
      "|   0  Tesla T4                       Off | 00000000:00:04.0 Off |                    0 |\n",
      "| N/A   54C    P8              10W /  70W |      0MiB / 15360MiB |      0%      Default |\n",
      "|                                         |                      |                  N/A |\n",
      "+-----------------------------------------+----------------------+----------------------+\n",
      "                                                                                         \n",
      "+---------------------------------------------------------------------------------------+\n",
      "| Processes:                                                                            |\n",
      "|  GPU   GI   CI        PID   Type   Process name                            GPU Memory |\n",
      "|        ID   ID                                                             Usage      |\n",
      "|=======================================================================================|\n",
      "|  No running processes found                                                           |\n",
      "+---------------------------------------------------------------------------------------+\n"
     ]
    }
   ],
   "source": [
    "!nvidia-smi"
   ]
  },
  {
   "cell_type": "code",
   "execution_count": null,
   "metadata": {
    "id": "DjwH6xf-MZYN"
   },
   "outputs": [],
   "source": []
  },
  {
   "cell_type": "code",
   "execution_count": 1,
   "metadata": {
    "colab": {
     "base_uri": "https://localhost:8080/"
    },
    "id": "3BrlYB0gS24R",
    "outputId": "3ac8a23f-df6a-43eb-f6bf-d706e599f22a"
   },
   "outputs": [
    {
     "name": "stdout",
     "output_type": "stream",
     "text": [
      "Cloning into 'gpt2'...\n",
      "remote: Enumerating objects: 87, done.\u001b[K\n",
      "remote: Counting objects: 100% (3/3), done.\u001b[K\n",
      "remote: Compressing objects: 100% (2/2), done.\u001b[K\n",
      "remote: Total 87 (delta 0), reused 0 (delta 0), pack-reused 84\u001b[K\n",
      "Unpacking objects: 100% (87/87), 1.65 MiB | 1.81 MiB/s, done.\n",
      "Filtering content: 100% (11/11), 5.23 GiB | 56.94 MiB/s, done.\n"
     ]
    }
   ],
   "source": [
    "! git clone https://huggingface.co/openai-community/gpt2"
   ]
  },
  {
   "cell_type": "code",
   "execution_count": 54,
   "metadata": {
    "colab": {
     "base_uri": "https://localhost:8080/"
    },
    "id": "bxykpz3-yFzD",
    "outputId": "6d43ea81-bd2c-48db-8fc4-9b223a6e9909"
   },
   "outputs": [
    {
     "name": "stdout",
     "output_type": "stream",
     "text": [
      "64-8bits.tflite  flax_model.msgpack\t onnx\t\t    tf_model.h5\n",
      "64-fp16.tflite\t generation_config.json  pytorch_model.bin  tokenizer_config.json\n",
      "64.tflite\t merges.txt\t\t README.md\t    tokenizer.json\n",
      "config.json\t model.safetensors\t rust_model.ot\t    vocab.json\n"
     ]
    }
   ],
   "source": [
    "! ls gpt2/"
   ]
  },
  {
   "cell_type": "code",
   "execution_count": null,
   "metadata": {
    "id": "TTqYUFUOyF2F"
   },
   "outputs": [],
   "source": []
  },
  {
   "cell_type": "code",
   "execution_count": null,
   "metadata": {
    "id": "lpM_BDOayG3g"
   },
   "outputs": [],
   "source": []
  },
  {
   "cell_type": "code",
   "execution_count": null,
   "metadata": {
    "id": "sqTP4azeyG6D"
   },
   "outputs": [],
   "source": []
  },
  {
   "cell_type": "markdown",
   "metadata": {
    "id": "7yxXoz7myHlk"
   },
   "source": [
    "# **Загрузка модели**"
   ]
  },
  {
   "cell_type": "code",
   "execution_count": 1,
   "metadata": {
    "id": "MoarpEogyG-v"
   },
   "outputs": [],
   "source": [
    "import transformers\n",
    "import torch"
   ]
  },
  {
   "cell_type": "code",
   "execution_count": 2,
   "metadata": {
    "id": "zYGBQvtpySum"
   },
   "outputs": [],
   "source": [
    "device = 'cuda'"
   ]
  },
  {
   "cell_type": "code",
   "execution_count": 2,
   "metadata": {
    "id": "PGPipQvKXjJE"
   },
   "outputs": [],
   "source": []
  },
  {
   "cell_type": "code",
   "execution_count": 3,
   "metadata": {
    "colab": {
     "base_uri": "https://localhost:8080/"
    },
    "id": "UVpXbWJ5Q6zf",
    "outputId": "8defbdff-b395-42c3-83cb-51b6817285ef"
   },
   "outputs": [
    {
     "data": {
      "text/plain": [
       "GPT2LMHeadModel(\n",
       "  (transformer): GPT2Model(\n",
       "    (wte): Embedding(50257, 768)\n",
       "    (wpe): Embedding(1024, 768)\n",
       "    (drop): Dropout(p=0.1, inplace=False)\n",
       "    (h): ModuleList(\n",
       "      (0-11): 12 x GPT2Block(\n",
       "        (ln_1): LayerNorm((768,), eps=1e-05, elementwise_affine=True)\n",
       "        (attn): GPT2Attention(\n",
       "          (c_attn): Conv1D()\n",
       "          (c_proj): Conv1D()\n",
       "          (attn_dropout): Dropout(p=0.1, inplace=False)\n",
       "          (resid_dropout): Dropout(p=0.1, inplace=False)\n",
       "        )\n",
       "        (ln_2): LayerNorm((768,), eps=1e-05, elementwise_affine=True)\n",
       "        (mlp): GPT2MLP(\n",
       "          (c_fc): Conv1D()\n",
       "          (c_proj): Conv1D()\n",
       "          (act): NewGELUActivation()\n",
       "          (dropout): Dropout(p=0.1, inplace=False)\n",
       "        )\n",
       "      )\n",
       "    )\n",
       "    (ln_f): LayerNorm((768,), eps=1e-05, elementwise_affine=True)\n",
       "  )\n",
       "  (lm_head): Linear(in_features=768, out_features=50257, bias=False)\n",
       ")"
      ]
     },
     "execution_count": 3,
     "metadata": {},
     "output_type": "execute_result"
    }
   ],
   "source": [
    "model = transformers.AutoModelForCausalLM.from_pretrained(\n",
    "    'gpt2',\n",
    "    torch_dtype=torch.float64,\n",
    ")\n",
    "\n",
    "model.to(device)"
   ]
  },
  {
   "cell_type": "code",
   "execution_count": 2,
   "metadata": {
    "id": "kGeFkamjSc-6"
   },
   "outputs": [],
   "source": []
  },
  {
   "cell_type": "code",
   "execution_count": 4,
   "metadata": {
    "colab": {
     "base_uri": "https://localhost:8080/"
    },
    "id": "bxFikoXWTufD",
    "outputId": "53f1b07e-44bd-4b61-816a-bd1c3e0ccbb0"
   },
   "outputs": [
    {
     "data": {
      "text/plain": [
       "1"
      ]
     },
     "execution_count": 4,
     "metadata": {},
     "output_type": "execute_result"
    }
   ],
   "source": [
    "tokenizer = transformers.AutoTokenizer.from_pretrained(\"gpt2\")\n",
    "tokenizer.add_special_tokens({'pad_token': \"<|endoftext|>\"})"
   ]
  },
  {
   "cell_type": "code",
   "execution_count": 5,
   "metadata": {
    "colab": {
     "base_uri": "https://localhost:8080/"
    },
    "id": "33J3WRmSV5tf",
    "outputId": "32ade50e-038c-415b-8361-286887da233d"
   },
   "outputs": [
    {
     "data": {
      "text/plain": [
       "GPT2TokenizerFast(name_or_path='gpt2', vocab_size=50257, model_max_length=1024, is_fast=True, padding_side='right', truncation_side='right', special_tokens={'bos_token': '<|endoftext|>', 'eos_token': '<|endoftext|>', 'unk_token': '<|endoftext|>', 'pad_token': '<|endoftext|>'}, clean_up_tokenization_spaces=True),  added_tokens_decoder={\n",
       "\t50256: AddedToken(\"<|endoftext|>\", rstrip=False, lstrip=False, single_word=False, normalized=False, special=True),\n",
       "}"
      ]
     },
     "execution_count": 5,
     "metadata": {},
     "output_type": "execute_result"
    }
   ],
   "source": [
    "tokenizer"
   ]
  },
  {
   "cell_type": "code",
   "execution_count": 5,
   "metadata": {
    "id": "zXLNU7iDJcuv"
   },
   "outputs": [],
   "source": []
  },
  {
   "cell_type": "code",
   "execution_count": 6,
   "metadata": {
    "id": "ot0nUZe5RYaw"
   },
   "outputs": [],
   "source": [
    "inputs = tokenizer(\"Hello, my dog is cute\", return_tensors=\"pt\").to(device)\n",
    "outputs = model(**inputs)"
   ]
  },
  {
   "cell_type": "code",
   "execution_count": 9,
   "metadata": {
    "colab": {
     "base_uri": "https://localhost:8080/"
    },
    "id": "25tIqVnvVuuK",
    "outputId": "01c1b56c-7d9c-4f2b-a096-f1ca11964d77"
   },
   "outputs": [
    {
     "name": "stderr",
     "output_type": "stream",
     "text": [
      "Setting `pad_token_id` to `eos_token_id`:50256 for open-end generation.\n",
      "/usr/local/lib/python3.10/dist-packages/transformers/generation/utils.py:1178: UserWarning: Using the model-agnostic default `max_length` (=20) to control the generation length. We recommend setting `max_new_tokens` to control the maximum length of the generation.\n",
      "  warnings.warn(\n"
     ]
    }
   ],
   "source": [
    "output = model.generate(**inputs)"
   ]
  },
  {
   "cell_type": "code",
   "execution_count": 10,
   "metadata": {
    "colab": {
     "base_uri": "https://localhost:8080/"
    },
    "id": "ZopOWsBiT0vm",
    "outputId": "d39c04d8-17f1-4d9c-feb6-0ec690ceec4c"
   },
   "outputs": [
    {
     "data": {
      "text/plain": [
       "[\"Hello, my dog is cute. I'm not sure if she's a puppy or not. I\"]"
      ]
     },
     "execution_count": 10,
     "metadata": {},
     "output_type": "execute_result"
    }
   ],
   "source": [
    "[tokenizer.decode(x) for x in output.detach()]"
   ]
  },
  {
   "cell_type": "code",
   "execution_count": 7,
   "metadata": {
    "id": "FJBF85EsW8AJ"
   },
   "outputs": [],
   "source": []
  },
  {
   "cell_type": "code",
   "execution_count": null,
   "metadata": {
    "id": "fBa-7ZohqFs_"
   },
   "outputs": [],
   "source": []
  },
  {
   "cell_type": "markdown",
   "metadata": {
    "id": "z-iQqP3hJIo6"
   },
   "source": [
    "# **SFT**"
   ]
  },
  {
   "cell_type": "code",
   "execution_count": 11,
   "metadata": {
    "id": "33OT876JUn_Z"
   },
   "outputs": [],
   "source": [
    "import pandas as pd\n",
    "from torch import nn"
   ]
  },
  {
   "cell_type": "code",
   "execution_count": 11,
   "metadata": {
    "id": "qq0_di-Oy9Pw"
   },
   "outputs": [],
   "source": []
  },
  {
   "cell_type": "code",
   "execution_count": 12,
   "metadata": {
    "id": "tQyKRnqdx0-q"
   },
   "outputs": [],
   "source": [
    "sft_df = pd.read_parquet('argilla_df.parquet')"
   ]
  },
  {
   "cell_type": "code",
   "execution_count": 10,
   "metadata": {
    "colab": {
     "base_uri": "https://localhost:8080/",
     "height": 597
    },
    "id": "Voxt4QPlx9BQ",
    "outputId": "46436a41-0bde-4872-a454-154043874aa1"
   },
   "outputs": [
    {
     "data": {
      "application/vnd.google.colaboratory.intrinsic+json": {
       "summary": "{\n  \"name\": \"sft_df\",\n  \"rows\": 7401,\n  \"fields\": [\n    {\n      \"column\": \"prompt\",\n      \"properties\": {\n        \"dtype\": \"string\",\n        \"num_unique_values\": 7355,\n        \"samples\": [\n          \"What is a PFD?\\nProcess engineering involves the utilization of multiple tools and methods. Depending on the exact nature of the system, processes need to be simulated and modeled using mathematics and computer science. Processes where phase change and phase equilibria are relevant require analysis using the principles and laws of thermodynamics to quantify changes in energy and efficiency. In contrast, processes that focus on the flow of material and energy as they approach equilibria are best analyzed using the disciplines of fluid mechanics and transport phenomena. Disciplines within the field of mechanics need to be applied in the presence of fluids or porous and dispersed media. Materials engineering principles also need to be applied, when relevant.\\n\\nManufacturing in the field of process engineering involves an implementation of process synthesis steps. Regardless of the exact tools required, process engineering is then formatted through the use of a process flow diagram (PFD) where material flow paths, storage equipment (such as tanks and silos), transformations (such as distillation columns, receiver/head tanks, mixing, separations, pumping, etc.) and flowrates are specified, as well as a list of all pipes and conveyors and their contents, material properties such as density, viscosity, particle-size distribution, flowrates, pressures, temperatures, and materials of construction for the piping and unit operations.\",\n          \"Based on this article, what was the relationship between Ala-ud-Din Bahman Shah and Alauddin Mujahid Shah?\\nMohammed Shah I (reigned 1358\\u20131375) was the second ruler of the Bahmani Sultanate, a late medieval kingdom of India. He succeeded his father Ala-ud-Din Bahman Shah. His reign was marked by a series of wars between his kingdom and two neighboring kingdoms, the Vijayanagara and the Warangal under Kapaya Nayaka. He was succeeded by his son Alauddin Mujahid Shah.\",\n          \"What is the fastest car in the world?\"\n        ],\n        \"semantic_type\": \"\",\n        \"description\": \"\"\n      }\n    },\n    {\n      \"column\": \"response-1\",\n      \"properties\": {\n        \"dtype\": \"string\",\n        \"num_unique_values\": 7385,\n        \"samples\": [\n          \"What is following the file format Delta Lake follows to write records? CSV, JSON, PARQUET, AVRO, ORC, etc\\nDelta Lake follows its own file format for writing records. It does not support any file format such as CSV, JSON, PARQUET, AVRO or ORC. Delta Lake stores and processes the data in Avro format, and it uses a schema to define the Avro schema for the data to be stored in the lake.\",\n          \"Where does Nick work on the show the New Girl?\\nNick works at a technology company in New York City.\",\n          \"What are the lightweight weight requirements at the collegiate level in the United States?\\nThe weights can vary depending on the sport and level of competition, but generally range from 120 pounds to 165 pounds. However, the exact weight requirements may also vary between universities and colleges.</s> \\nWhat factors are typically considered when determining weight restrictions for collegiate athletes in the United States?</s> \\nThere may be several factors considered when determining weight restrictions for collegiate athletes in the United States, such as:\\n\\n1. Medical reasons: Athletes may need to maintain a certain weight to prevent injury or improve performance.\\n\\n2. Performance: Coaches often consider athletes' weight as a factor in determining how they may perform in their respective sports.\\n\\n3. Competition-Specific: Some sports may have specific weight requirements that are different from others depending on the sport's specific rules and regulations.\\n\\n4. Team Size and Position: Coaches and team staff may also take into account the size\"\n        ],\n        \"semantic_type\": \"\",\n        \"description\": \"\"\n      }\n    },\n    {\n      \"column\": \"response-2\",\n      \"properties\": {\n        \"dtype\": \"string\",\n        \"num_unique_values\": 7390,\n        \"samples\": [\n          \"What are the ingredients in panch phuran?\\nI'm sorry, I'm unable to find a reliable source that lists the ingredients in panch phuran. It seems that it is a traditional Indian spice blend that has been prepared for generations without a standardized recipe. You may want to try looking for a recipe or recipe for this spice blend online to find the specific ingredients used.\",\n          \"Name some Nobel Prize winners\\nThe list of Nobel Prize winners includes Albert Einstein, Ernest Rutherford, John B Goodenough, Robert W. Hamilton, Paul Dirac, Wolfgang Helfenstein, Peter Higgs, James Cronin, Yoichiro Nambu, John G. Cramer, James Peebles, Fritz Houtermans, Richard Feynman, Robert Wilson, Eugene Wigner, Wolfgang Ketterle, Fritz Houtermans, Peter Higgs, James Cronin, Yoichiro Nambu, John G. Cramer, James Peebles, Fritz Houtermans, Robert Wilson, Eugene Wigner, Wolfgang Ketterle, John B Goodenough, Robert W. Hamilton, Wolfgang Helfenstein, Peter Higgs, Fritz Houtermans, Yoichiro Nambu, John G. Cramer, Robert Wilson, Eugene Wigner, and James Cronin.\",\n          \"Proteomics is an area of study which focuses on the complete set of proteins in an organism, from their production to the way they interact with other proteins to their roles in various biological processes. It is an important research area in modern biology, as it provides a wealth of information about a given organism that may be used to develop new therapies or to better understand and diagnose medical conditions.\"\n        ],\n        \"semantic_type\": \"\",\n        \"description\": \"\"\n      }\n    },\n    {\n      \"column\": \"category\",\n      \"properties\": {\n        \"dtype\": \"category\",\n        \"num_unique_values\": 8,\n        \"samples\": [\n          \"information_extraction\",\n          \"summarization\",\n          \"open_qa\"\n        ],\n        \"semantic_type\": \"\",\n        \"description\": \"\"\n      }\n    },\n    {\n      \"column\": \"original_response\",\n      \"properties\": {\n        \"dtype\": \"string\",\n        \"num_unique_values\": 7379,\n        \"samples\": [\n          \"The different RAID configurations are RAID 0, RAID 1, RAID 5, RAID 6, RAID 10, RAID 50, RAID 51, RAID 60, RAID 61, RAID 70, RAID 75, RAID 90, RAID 100, RAID 200, and RAID 300.\",\n          \"Housing is sky rocketing compared to its neighboring areas -- Noe Valley, the Mission etc.\\nIt is a transportation hub thus It is safe\\nSome of the best restaurants including Gialina, Chenery Park thus good scraps left\\nThere is an 80 acre park with hiking trails, rock climbing, baseball diamond, tennis courts, basketball courts etc making good area for tenting\\nThe community has lots of soup kitchen and free welfare\",\n          \"Mayfair, London\"\n        ],\n        \"semantic_type\": \"\",\n        \"description\": \"\"\n      }\n    },\n    {\n      \"column\": \"external_id\",\n      \"properties\": {\n        \"dtype\": \"number\",\n        \"std\": 4358,\n        \"min\": 1,\n        \"max\": 15013,\n        \"num_unique_values\": 7401,\n        \"samples\": [\n          12574,\n          1718,\n          10128\n        ],\n        \"semantic_type\": \"\",\n        \"description\": \"\"\n      }\n    }\n  ]\n}",
       "type": "dataframe",
       "variable_name": "sft_df"
      },
      "text/html": [
       "\n",
       "  <div id=\"df-c2e09b50-8375-49be-9bd2-cd76c322a147\" class=\"colab-df-container\">\n",
       "    <div>\n",
       "<style scoped>\n",
       "    .dataframe tbody tr th:only-of-type {\n",
       "        vertical-align: middle;\n",
       "    }\n",
       "\n",
       "    .dataframe tbody tr th {\n",
       "        vertical-align: top;\n",
       "    }\n",
       "\n",
       "    .dataframe thead th {\n",
       "        text-align: right;\n",
       "    }\n",
       "</style>\n",
       "<table border=\"1\" class=\"dataframe\">\n",
       "  <thead>\n",
       "    <tr style=\"text-align: right;\">\n",
       "      <th></th>\n",
       "      <th>prompt</th>\n",
       "      <th>response-1</th>\n",
       "      <th>response-2</th>\n",
       "      <th>category</th>\n",
       "      <th>original_response</th>\n",
       "      <th>external_id</th>\n",
       "    </tr>\n",
       "  </thead>\n",
       "  <tbody>\n",
       "    <tr>\n",
       "      <th>0</th>\n",
       "      <td>What is Depreciation</td>\n",
       "      <td>What is Depreciation – 10 Important Facts to K...</td>\n",
       "      <td>What is Depreciation on a Car?\\nDepreciation i...</td>\n",
       "      <td>open_qa</td>\n",
       "      <td>Depreciation is the drop in value of an asset ...</td>\n",
       "      <td>518</td>\n",
       "    </tr>\n",
       "    <tr>\n",
       "      <th>1</th>\n",
       "      <td>What do you know about the city of Aberdeen in...</td>\n",
       "      <td>Aberdeen, the city in which I've lived for the...</td>\n",
       "      <td>As an AI language model, I don't have personal...</td>\n",
       "      <td>open_qa</td>\n",
       "      <td>Aberdeen is a city located in the North East o...</td>\n",
       "      <td>351</td>\n",
       "    </tr>\n",
       "    <tr>\n",
       "      <th>2</th>\n",
       "      <td>Describe thunderstorm season in the United Sta...</td>\n",
       "      <td>Describe thunderstorm season in the United Sta...</td>\n",
       "      <td>Describe thunderstorm season in the United Sta...</td>\n",
       "      <td>information_extraction</td>\n",
       "      <td>Thunderstorm season in the United States and C...</td>\n",
       "      <td>10567</td>\n",
       "    </tr>\n",
       "    <tr>\n",
       "      <th>3</th>\n",
       "      <td>When did Peloton IPO?\\nOn September 26, 2019, ...</td>\n",
       "      <td>When did Peloton IPO?\\nPeloton launched its in...</td>\n",
       "      <td>When did Peloton IPO?\\nPeloton IPO'd on May 26...</td>\n",
       "      <td>closed_qa</td>\n",
       "      <td>Peloton became a public company via an initial...</td>\n",
       "      <td>12412</td>\n",
       "    </tr>\n",
       "    <tr>\n",
       "      <th>4</th>\n",
       "      <td>What is the best way to answer an interview qu...</td>\n",
       "      <td>The best way to answer an interview question m...</td>\n",
       "      <td>Some of the best ways to answer an interview q...</td>\n",
       "      <td>creative_writing</td>\n",
       "      <td>The first recommended step is to ask clarifyin...</td>\n",
       "      <td>2521</td>\n",
       "    </tr>\n",
       "    <tr>\n",
       "      <th>...</th>\n",
       "      <td>...</td>\n",
       "      <td>...</td>\n",
       "      <td>...</td>\n",
       "      <td>...</td>\n",
       "      <td>...</td>\n",
       "      <td>...</td>\n",
       "    </tr>\n",
       "    <tr>\n",
       "      <th>7396</th>\n",
       "      <td>How do i accept the change</td>\n",
       "      <td>How do i accept the change in my life\\nAccepti...</td>\n",
       "      <td>I's a great opportunity to improve. The only t...</td>\n",
       "      <td>brainstorming</td>\n",
       "      <td>Embrace the change and see the difference</td>\n",
       "      <td>15010</td>\n",
       "    </tr>\n",
       "    <tr>\n",
       "      <th>7397</th>\n",
       "      <td>Extract the teams that the footballer Sócrates...</td>\n",
       "      <td>Extract the teams that the footballer Sócrates...</td>\n",
       "      <td>Extract the teams that the footballer Sócrates...</td>\n",
       "      <td>information_extraction</td>\n",
       "      <td>Brazil, Botafogo-SP, Corinthians, Fiorentina</td>\n",
       "      <td>9970</td>\n",
       "    </tr>\n",
       "    <tr>\n",
       "      <th>7398</th>\n",
       "      <td>Without quoting directly from the text give me...</td>\n",
       "      <td>Without quoting directly from the text give me...</td>\n",
       "      <td>Without quoting directly from the text give me...</td>\n",
       "      <td>summarization</td>\n",
       "      <td>Brendon Small is a  stand-up comedian, Creator...</td>\n",
       "      <td>14205</td>\n",
       "    </tr>\n",
       "    <tr>\n",
       "      <th>7399</th>\n",
       "      <td>Is Killing is Sin ? Is it ture</td>\n",
       "      <td>Is Killing is Sin ? Is it ture?\\nKilling can b...</td>\n",
       "      <td>Is Killing is Sin ? Is it ture?\\nKilling is no...</td>\n",
       "      <td>brainstorming</td>\n",
       "      <td>Killing a human being should not be sin becaus...</td>\n",
       "      <td>11253</td>\n",
       "    </tr>\n",
       "    <tr>\n",
       "      <th>7400</th>\n",
       "      <td>Who was Otto von Bismarck?\\nOtto, Prince of Bi...</td>\n",
       "      <td>Who was Otto von Bismarck?\\nOtto von Bismarck ...</td>\n",
       "      <td>Who was Otto von Bismarck?\\nOtto von Bismarck ...</td>\n",
       "      <td>information_extraction</td>\n",
       "      <td>Otto von Bismarck was a Prussian and German so...</td>\n",
       "      <td>12872</td>\n",
       "    </tr>\n",
       "  </tbody>\n",
       "</table>\n",
       "<p>7401 rows × 6 columns</p>\n",
       "</div>\n",
       "    <div class=\"colab-df-buttons\">\n",
       "\n",
       "  <div class=\"colab-df-container\">\n",
       "    <button class=\"colab-df-convert\" onclick=\"convertToInteractive('df-c2e09b50-8375-49be-9bd2-cd76c322a147')\"\n",
       "            title=\"Convert this dataframe to an interactive table.\"\n",
       "            style=\"display:none;\">\n",
       "\n",
       "  <svg xmlns=\"http://www.w3.org/2000/svg\" height=\"24px\" viewBox=\"0 -960 960 960\">\n",
       "    <path d=\"M120-120v-720h720v720H120Zm60-500h600v-160H180v160Zm220 220h160v-160H400v160Zm0 220h160v-160H400v160ZM180-400h160v-160H180v160Zm440 0h160v-160H620v160ZM180-180h160v-160H180v160Zm440 0h160v-160H620v160Z\"/>\n",
       "  </svg>\n",
       "    </button>\n",
       "\n",
       "  <style>\n",
       "    .colab-df-container {\n",
       "      display:flex;\n",
       "      gap: 12px;\n",
       "    }\n",
       "\n",
       "    .colab-df-convert {\n",
       "      background-color: #E8F0FE;\n",
       "      border: none;\n",
       "      border-radius: 50%;\n",
       "      cursor: pointer;\n",
       "      display: none;\n",
       "      fill: #1967D2;\n",
       "      height: 32px;\n",
       "      padding: 0 0 0 0;\n",
       "      width: 32px;\n",
       "    }\n",
       "\n",
       "    .colab-df-convert:hover {\n",
       "      background-color: #E2EBFA;\n",
       "      box-shadow: 0px 1px 2px rgba(60, 64, 67, 0.3), 0px 1px 3px 1px rgba(60, 64, 67, 0.15);\n",
       "      fill: #174EA6;\n",
       "    }\n",
       "\n",
       "    .colab-df-buttons div {\n",
       "      margin-bottom: 4px;\n",
       "    }\n",
       "\n",
       "    [theme=dark] .colab-df-convert {\n",
       "      background-color: #3B4455;\n",
       "      fill: #D2E3FC;\n",
       "    }\n",
       "\n",
       "    [theme=dark] .colab-df-convert:hover {\n",
       "      background-color: #434B5C;\n",
       "      box-shadow: 0px 1px 3px 1px rgba(0, 0, 0, 0.15);\n",
       "      filter: drop-shadow(0px 1px 2px rgba(0, 0, 0, 0.3));\n",
       "      fill: #FFFFFF;\n",
       "    }\n",
       "  </style>\n",
       "\n",
       "    <script>\n",
       "      const buttonEl =\n",
       "        document.querySelector('#df-c2e09b50-8375-49be-9bd2-cd76c322a147 button.colab-df-convert');\n",
       "      buttonEl.style.display =\n",
       "        google.colab.kernel.accessAllowed ? 'block' : 'none';\n",
       "\n",
       "      async function convertToInteractive(key) {\n",
       "        const element = document.querySelector('#df-c2e09b50-8375-49be-9bd2-cd76c322a147');\n",
       "        const dataTable =\n",
       "          await google.colab.kernel.invokeFunction('convertToInteractive',\n",
       "                                                    [key], {});\n",
       "        if (!dataTable) return;\n",
       "\n",
       "        const docLinkHtml = 'Like what you see? Visit the ' +\n",
       "          '<a target=\"_blank\" href=https://colab.research.google.com/notebooks/data_table.ipynb>data table notebook</a>'\n",
       "          + ' to learn more about interactive tables.';\n",
       "        element.innerHTML = '';\n",
       "        dataTable['output_type'] = 'display_data';\n",
       "        await google.colab.output.renderOutput(dataTable, element);\n",
       "        const docLink = document.createElement('div');\n",
       "        docLink.innerHTML = docLinkHtml;\n",
       "        element.appendChild(docLink);\n",
       "      }\n",
       "    </script>\n",
       "  </div>\n",
       "\n",
       "\n",
       "<div id=\"df-36d1ac56-998f-4eca-92c4-8e934aa0c639\">\n",
       "  <button class=\"colab-df-quickchart\" onclick=\"quickchart('df-36d1ac56-998f-4eca-92c4-8e934aa0c639')\"\n",
       "            title=\"Suggest charts\"\n",
       "            style=\"display:none;\">\n",
       "\n",
       "<svg xmlns=\"http://www.w3.org/2000/svg\" height=\"24px\"viewBox=\"0 0 24 24\"\n",
       "     width=\"24px\">\n",
       "    <g>\n",
       "        <path d=\"M19 3H5c-1.1 0-2 .9-2 2v14c0 1.1.9 2 2 2h14c1.1 0 2-.9 2-2V5c0-1.1-.9-2-2-2zM9 17H7v-7h2v7zm4 0h-2V7h2v10zm4 0h-2v-4h2v4z\"/>\n",
       "    </g>\n",
       "</svg>\n",
       "  </button>\n",
       "\n",
       "<style>\n",
       "  .colab-df-quickchart {\n",
       "      --bg-color: #E8F0FE;\n",
       "      --fill-color: #1967D2;\n",
       "      --hover-bg-color: #E2EBFA;\n",
       "      --hover-fill-color: #174EA6;\n",
       "      --disabled-fill-color: #AAA;\n",
       "      --disabled-bg-color: #DDD;\n",
       "  }\n",
       "\n",
       "  [theme=dark] .colab-df-quickchart {\n",
       "      --bg-color: #3B4455;\n",
       "      --fill-color: #D2E3FC;\n",
       "      --hover-bg-color: #434B5C;\n",
       "      --hover-fill-color: #FFFFFF;\n",
       "      --disabled-bg-color: #3B4455;\n",
       "      --disabled-fill-color: #666;\n",
       "  }\n",
       "\n",
       "  .colab-df-quickchart {\n",
       "    background-color: var(--bg-color);\n",
       "    border: none;\n",
       "    border-radius: 50%;\n",
       "    cursor: pointer;\n",
       "    display: none;\n",
       "    fill: var(--fill-color);\n",
       "    height: 32px;\n",
       "    padding: 0;\n",
       "    width: 32px;\n",
       "  }\n",
       "\n",
       "  .colab-df-quickchart:hover {\n",
       "    background-color: var(--hover-bg-color);\n",
       "    box-shadow: 0 1px 2px rgba(60, 64, 67, 0.3), 0 1px 3px 1px rgba(60, 64, 67, 0.15);\n",
       "    fill: var(--button-hover-fill-color);\n",
       "  }\n",
       "\n",
       "  .colab-df-quickchart-complete:disabled,\n",
       "  .colab-df-quickchart-complete:disabled:hover {\n",
       "    background-color: var(--disabled-bg-color);\n",
       "    fill: var(--disabled-fill-color);\n",
       "    box-shadow: none;\n",
       "  }\n",
       "\n",
       "  .colab-df-spinner {\n",
       "    border: 2px solid var(--fill-color);\n",
       "    border-color: transparent;\n",
       "    border-bottom-color: var(--fill-color);\n",
       "    animation:\n",
       "      spin 1s steps(1) infinite;\n",
       "  }\n",
       "\n",
       "  @keyframes spin {\n",
       "    0% {\n",
       "      border-color: transparent;\n",
       "      border-bottom-color: var(--fill-color);\n",
       "      border-left-color: var(--fill-color);\n",
       "    }\n",
       "    20% {\n",
       "      border-color: transparent;\n",
       "      border-left-color: var(--fill-color);\n",
       "      border-top-color: var(--fill-color);\n",
       "    }\n",
       "    30% {\n",
       "      border-color: transparent;\n",
       "      border-left-color: var(--fill-color);\n",
       "      border-top-color: var(--fill-color);\n",
       "      border-right-color: var(--fill-color);\n",
       "    }\n",
       "    40% {\n",
       "      border-color: transparent;\n",
       "      border-right-color: var(--fill-color);\n",
       "      border-top-color: var(--fill-color);\n",
       "    }\n",
       "    60% {\n",
       "      border-color: transparent;\n",
       "      border-right-color: var(--fill-color);\n",
       "    }\n",
       "    80% {\n",
       "      border-color: transparent;\n",
       "      border-right-color: var(--fill-color);\n",
       "      border-bottom-color: var(--fill-color);\n",
       "    }\n",
       "    90% {\n",
       "      border-color: transparent;\n",
       "      border-bottom-color: var(--fill-color);\n",
       "    }\n",
       "  }\n",
       "</style>\n",
       "\n",
       "  <script>\n",
       "    async function quickchart(key) {\n",
       "      const quickchartButtonEl =\n",
       "        document.querySelector('#' + key + ' button');\n",
       "      quickchartButtonEl.disabled = true;  // To prevent multiple clicks.\n",
       "      quickchartButtonEl.classList.add('colab-df-spinner');\n",
       "      try {\n",
       "        const charts = await google.colab.kernel.invokeFunction(\n",
       "            'suggestCharts', [key], {});\n",
       "      } catch (error) {\n",
       "        console.error('Error during call to suggestCharts:', error);\n",
       "      }\n",
       "      quickchartButtonEl.classList.remove('colab-df-spinner');\n",
       "      quickchartButtonEl.classList.add('colab-df-quickchart-complete');\n",
       "    }\n",
       "    (() => {\n",
       "      let quickchartButtonEl =\n",
       "        document.querySelector('#df-36d1ac56-998f-4eca-92c4-8e934aa0c639 button');\n",
       "      quickchartButtonEl.style.display =\n",
       "        google.colab.kernel.accessAllowed ? 'block' : 'none';\n",
       "    })();\n",
       "  </script>\n",
       "</div>\n",
       "    </div>\n",
       "  </div>\n"
      ],
      "text/plain": [
       "                                                 prompt  \\\n",
       "0                                  What is Depreciation   \n",
       "1     What do you know about the city of Aberdeen in...   \n",
       "2     Describe thunderstorm season in the United Sta...   \n",
       "3     When did Peloton IPO?\\nOn September 26, 2019, ...   \n",
       "4     What is the best way to answer an interview qu...   \n",
       "...                                                 ...   \n",
       "7396                         How do i accept the change   \n",
       "7397  Extract the teams that the footballer Sócrates...   \n",
       "7398  Without quoting directly from the text give me...   \n",
       "7399                     Is Killing is Sin ? Is it ture   \n",
       "7400  Who was Otto von Bismarck?\\nOtto, Prince of Bi...   \n",
       "\n",
       "                                             response-1  \\\n",
       "0     What is Depreciation – 10 Important Facts to K...   \n",
       "1     Aberdeen, the city in which I've lived for the...   \n",
       "2     Describe thunderstorm season in the United Sta...   \n",
       "3     When did Peloton IPO?\\nPeloton launched its in...   \n",
       "4     The best way to answer an interview question m...   \n",
       "...                                                 ...   \n",
       "7396  How do i accept the change in my life\\nAccepti...   \n",
       "7397  Extract the teams that the footballer Sócrates...   \n",
       "7398  Without quoting directly from the text give me...   \n",
       "7399  Is Killing is Sin ? Is it ture?\\nKilling can b...   \n",
       "7400  Who was Otto von Bismarck?\\nOtto von Bismarck ...   \n",
       "\n",
       "                                             response-2  \\\n",
       "0     What is Depreciation on a Car?\\nDepreciation i...   \n",
       "1     As an AI language model, I don't have personal...   \n",
       "2     Describe thunderstorm season in the United Sta...   \n",
       "3     When did Peloton IPO?\\nPeloton IPO'd on May 26...   \n",
       "4     Some of the best ways to answer an interview q...   \n",
       "...                                                 ...   \n",
       "7396  I's a great opportunity to improve. The only t...   \n",
       "7397  Extract the teams that the footballer Sócrates...   \n",
       "7398  Without quoting directly from the text give me...   \n",
       "7399  Is Killing is Sin ? Is it ture?\\nKilling is no...   \n",
       "7400  Who was Otto von Bismarck?\\nOtto von Bismarck ...   \n",
       "\n",
       "                    category  \\\n",
       "0                    open_qa   \n",
       "1                    open_qa   \n",
       "2     information_extraction   \n",
       "3                  closed_qa   \n",
       "4           creative_writing   \n",
       "...                      ...   \n",
       "7396           brainstorming   \n",
       "7397  information_extraction   \n",
       "7398           summarization   \n",
       "7399           brainstorming   \n",
       "7400  information_extraction   \n",
       "\n",
       "                                      original_response  external_id  \n",
       "0     Depreciation is the drop in value of an asset ...          518  \n",
       "1     Aberdeen is a city located in the North East o...          351  \n",
       "2     Thunderstorm season in the United States and C...        10567  \n",
       "3     Peloton became a public company via an initial...        12412  \n",
       "4     The first recommended step is to ask clarifyin...         2521  \n",
       "...                                                 ...          ...  \n",
       "7396          Embrace the change and see the difference        15010  \n",
       "7397       Brazil, Botafogo-SP, Corinthians, Fiorentina         9970  \n",
       "7398  Brendon Small is a  stand-up comedian, Creator...        14205  \n",
       "7399  Killing a human being should not be sin becaus...        11253  \n",
       "7400  Otto von Bismarck was a Prussian and German so...        12872  \n",
       "\n",
       "[7401 rows x 6 columns]"
      ]
     },
     "execution_count": 10,
     "metadata": {},
     "output_type": "execute_result"
    }
   ],
   "source": [
    "sft_df"
   ]
  },
  {
   "cell_type": "code",
   "execution_count": 13,
   "metadata": {
    "colab": {
     "base_uri": "https://localhost:8080/"
    },
    "id": "37WDu6XBzDkL",
    "outputId": "7ef5cbab-b763-4356-abb8-9c19ec934dd7"
   },
   "outputs": [
    {
     "data": {
      "text/plain": [
       "2467.0"
      ]
     },
     "execution_count": 13,
     "metadata": {},
     "output_type": "execute_result"
    }
   ],
   "source": [
    "len(sft_df)/3"
   ]
  },
  {
   "cell_type": "code",
   "execution_count": 14,
   "metadata": {
    "id": "adYOzSh4zEjL"
   },
   "outputs": [],
   "source": [
    "sft_df = sft_df[:2467]"
   ]
  },
  {
   "cell_type": "code",
   "execution_count": null,
   "metadata": {
    "id": "AeVZ07RVzEnn"
   },
   "outputs": [],
   "source": []
  },
  {
   "cell_type": "code",
   "execution_count": 15,
   "metadata": {
    "colab": {
     "base_uri": "https://localhost:8080/",
     "height": 35
    },
    "id": "mpxrUQaMuNQ2",
    "outputId": "e244da58-ce2b-40a8-d7e4-ccd42d57a898"
   },
   "outputs": [
    {
     "data": {
      "application/vnd.google.colaboratory.intrinsic+json": {
       "type": "string"
      },
      "text/plain": [
       "'What is Depreciation'"
      ]
     },
     "execution_count": 15,
     "metadata": {},
     "output_type": "execute_result"
    }
   ],
   "source": [
    "sft_df.iloc[0]['prompt']"
   ]
  },
  {
   "cell_type": "code",
   "execution_count": 16,
   "metadata": {
    "colab": {
     "base_uri": "https://localhost:8080/",
     "height": 53
    },
    "id": "YFtrDE_svSn3",
    "outputId": "0e3a2728-e9a5-45f1-8114-8bcc7ad6284e"
   },
   "outputs": [
    {
     "data": {
      "application/vnd.google.colaboratory.intrinsic+json": {
       "type": "string"
      },
      "text/plain": [
       "\"Depreciation is the drop in value of an asset due to wear and tear, age and obsolescence (going out of date) as recorded in an organization's financial records.\""
      ]
     },
     "execution_count": 16,
     "metadata": {},
     "output_type": "execute_result"
    }
   ],
   "source": [
    "sft_df.iloc[0]['original_response']"
   ]
  },
  {
   "cell_type": "code",
   "execution_count": 57,
   "metadata": {
    "id": "r_e2HoisuiGH"
   },
   "outputs": [],
   "source": []
  },
  {
   "cell_type": "code",
   "execution_count": 43,
   "metadata": {
    "id": "hb72_qa3uku5"
   },
   "outputs": [],
   "source": []
  },
  {
   "cell_type": "code",
   "execution_count": 17,
   "metadata": {
    "colab": {
     "base_uri": "https://localhost:8080/"
    },
    "id": "uqsb18uGytFP",
    "outputId": "eafb4e3c-3fdb-48a8-ce32-0ec18ef30a43"
   },
   "outputs": [
    {
     "data": {
      "text/plain": [
       "{'input_ids': tensor([[ 2061,   318,  2129, 33950, 12156, 33950,   318,   262,  4268,   287,\n",
       "          1988,   286,   281, 11171,  2233,   284,  5806,   290, 11626,    11,\n",
       "          2479,   290, 10201, 16850,   594,   357,  5146,   503,   286,  3128,\n",
       "             8,   355,  6264,   287,   281,  4009,   338,  3176,  4406,    13,\n",
       "         50256, 50256, 50256, 50256, 50256, 50256, 50256, 50256, 50256, 50256,\n",
       "         50256, 50256, 50256, 50256, 50256, 50256, 50256, 50256, 50256, 50256,\n",
       "         50256, 50256, 50256, 50256, 50256, 50256, 50256, 50256, 50256, 50256,\n",
       "         50256, 50256, 50256, 50256, 50256, 50256, 50256, 50256, 50256, 50256,\n",
       "         50256, 50256, 50256, 50256, 50256, 50256, 50256, 50256, 50256, 50256,\n",
       "         50256, 50256, 50256, 50256, 50256, 50256, 50256, 50256, 50256, 50256,\n",
       "         50256, 50256, 50256, 50256, 50256, 50256, 50256, 50256, 50256, 50256,\n",
       "         50256, 50256, 50256, 50256, 50256, 50256, 50256, 50256, 50256, 50256,\n",
       "         50256, 50256, 50256, 50256, 50256, 50256, 50256, 50256]]), 'attention_mask': tensor([[1, 1, 1, 1, 1, 1, 1, 1, 1, 1, 1, 1, 1, 1, 1, 1, 1, 1, 1, 1, 1, 1, 1, 1,\n",
       "         1, 1, 1, 1, 1, 1, 1, 1, 1, 1, 1, 1, 1, 1, 1, 1, 0, 0, 0, 0, 0, 0, 0, 0,\n",
       "         0, 0, 0, 0, 0, 0, 0, 0, 0, 0, 0, 0, 0, 0, 0, 0, 0, 0, 0, 0, 0, 0, 0, 0,\n",
       "         0, 0, 0, 0, 0, 0, 0, 0, 0, 0, 0, 0, 0, 0, 0, 0, 0, 0, 0, 0, 0, 0, 0, 0,\n",
       "         0, 0, 0, 0, 0, 0, 0, 0, 0, 0, 0, 0, 0, 0, 0, 0, 0, 0, 0, 0, 0, 0, 0, 0,\n",
       "         0, 0, 0, 0, 0, 0, 0, 0]])}"
      ]
     },
     "execution_count": 17,
     "metadata": {},
     "output_type": "execute_result"
    }
   ],
   "source": [
    "tokenizer.add_special_tokens({'pad_token': \"<|endoftext|>\"})\n",
    "tokenizer.encode_plus(sft_df.iloc[0]['prompt'], sft_df.iloc[0]['original_response'], truncation=True, padding=\"max_length\", max_length=128, return_tensors=\"pt\")"
   ]
  },
  {
   "cell_type": "code",
   "execution_count": 42,
   "metadata": {
    "id": "jZZLIDFWyy2O"
   },
   "outputs": [],
   "source": []
  },
  {
   "cell_type": "code",
   "execution_count": 43,
   "metadata": {
    "id": "PJqi0AjnuQST"
   },
   "outputs": [],
   "source": []
  },
  {
   "cell_type": "code",
   "execution_count": 68,
   "metadata": {
    "id": "boM0r_4F1BPS"
   },
   "outputs": [],
   "source": []
  },
  {
   "cell_type": "code",
   "execution_count": 57,
   "metadata": {
    "id": "F3dCfJwO1RAI"
   },
   "outputs": [],
   "source": []
  },
  {
   "cell_type": "code",
   "execution_count": 68,
   "metadata": {
    "id": "rA4zU-o5WRp_"
   },
   "outputs": [],
   "source": []
  },
  {
   "cell_type": "code",
   "execution_count": 68,
   "metadata": {
    "id": "eI6H4Uv31ALV"
   },
   "outputs": [],
   "source": []
  },
  {
   "cell_type": "code",
   "execution_count": 18,
   "metadata": {
    "id": "YyEVgCGq4Egn"
   },
   "outputs": [],
   "source": [
    "from torch.utils.data import Dataset\n",
    "from typing import Dict, Sequence, List, Iterator, Tuple\n",
    "\n",
    "IGNORE_INDEX: int = -100\n",
    "\n",
    "def _tokenize_fn(text: str, max_length: int, tokenizer: transformers.PreTrainedTokenizer) -> List[int]:\n",
    "    return tokenizer(\n",
    "        text,\n",
    "        max_length=max_length,\n",
    "        truncation=True,\n",
    "        add_special_tokens=False,\n",
    "    )['input_ids']\n",
    "\n",
    "class SupervisedDataset(Dataset):\n",
    "    \"\"\"Dataset for supervised fine-tuning.\"\"\"\n",
    "    def __init__(self, dataset, tokenizer: transformers.PreTrainedTokenizer):\n",
    "        super(SupervisedDataset, self).__init__()\n",
    "        self.tokenizer = tokenizer\n",
    "\n",
    "        bos_token = tokenizer.bos_token if tokenizer.bos_token is not None else ''\n",
    "        self.sources = [f\"{bos_token}{dataset[0]}\" for example in dataset]\n",
    "        self.targets = [f\"{dataset[1]}{tokenizer.eos_token}\" for example in dataset]\n",
    "\n",
    "    def __len__(self) -> int:\n",
    "        return len(self.sources)\n",
    "\n",
    "    def __getitem__(self, i: int) -> Dict[str, List[int]]:\n",
    "        source_ids = _tokenize_fn(self.sources[i], self.tokenizer.model_max_length, self.tokenizer)\n",
    "        target_ids = _tokenize_fn(self.targets[i], self.tokenizer.model_max_length - len(source_ids), self.tokenizer)\n",
    "        input_ids = torch.tensor(source_ids + target_ids)\n",
    "        labels = torch.tensor([IGNORE_INDEX] * len(source_ids) + target_ids)\n",
    "        return dict(input_ids=input_ids, labels=labels)\n"
   ]
  },
  {
   "cell_type": "code",
   "execution_count": null,
   "metadata": {
    "id": "rsN9af3YGacp"
   },
   "outputs": [],
   "source": []
  },
  {
   "cell_type": "code",
   "execution_count": 19,
   "metadata": {
    "id": "2NdLG6txeMG-"
   },
   "outputs": [],
   "source": [
    "train_dl = SupervisedDataset(\n",
    "    dataset=sft_df[['prompt', 'original_response']].values,\n",
    "    tokenizer=tokenizer,\n",
    ")"
   ]
  },
  {
   "cell_type": "code",
   "execution_count": 20,
   "metadata": {
    "id": "ASFAFtBQeiKH"
   },
   "outputs": [],
   "source": [
    "for x in train_dl:\n",
    "  break"
   ]
  },
  {
   "cell_type": "code",
   "execution_count": 21,
   "metadata": {
    "colab": {
     "base_uri": "https://localhost:8080/"
    },
    "id": "hp9kNfjieiNi",
    "outputId": "4d320b76-7cd7-4a60-9b70-687e2dde2182"
   },
   "outputs": [
    {
     "data": {
      "text/plain": [
       "{'input_ids': tensor([50256, 17816,  2061,   318,  2129, 33950,     6,   198,   366, 12156,\n",
       "         33950,   318,   262,  4268,   287,  1988,   286,   281, 11171,  2233,\n",
       "           284,  5806,   290, 11626,    11,  2479,   290, 10201, 16850,   594,\n",
       "           357,  5146,   503,   286,  3128,     8,   355,  6264,   287,   281,\n",
       "          4009,   338,  3176,  4406,   526,    60, 17816,  2061,   466,   345,\n",
       "           760,   546,   262,  1748,   286, 44985,   287,  8838,  8348,   198,\n",
       "           705,    32,   527, 39060,   318,   257,  1748,  5140,   287,   262,\n",
       "          2258,  3687,   286,  8838,    13,  1081,   286, 12131,   340,   550,\n",
       "           257,  3265,   286,   939,    11,   830,   661,   290,   318,   262,\n",
       "          2368,  4387,  1748,   287,  8838,    11,  2157, 23475,   357, 40064,\n",
       "            11,   830,     8,   290, 23995,   357, 39132,    11,   830,   737,\n",
       "         44985,   468,   587,  6412,   284,   355,   366,   464,  7698,  2254,\n",
       "             1,  2233,   284,   262,  1029,  1271,   286,  6832,   287,   262,\n",
       "          1748, 12006,   286, 17113,   578,   422,   262,  1957, 47780,    11,\n",
       "           543,   743,  9009,   293,   319,   262,  4071,  6695,   326,   262,\n",
       "         19606,  7127,   262,  6832,    13,   220,  4619,   262,  9507, 43054,\n",
       "            82,   262,  1748, 43054,    82,  3773,   468,  5688,  2710,  5634,\n",
       "          1088, 11474,  1222, 14345,  2233,   284,   663, 20387,   284,   262,\n",
       "          2258,  6896, 11474,  9412,    13,   220,   220, 44985,   468,   734,\n",
       "         11155,    26,   262,  2059,   286, 44985,   290,  5199, 11646,  2059,\n",
       "            13,  1892,   540,   661,   508,   423,   587,  3917,   351, 44985,\n",
       "          2291, 14015, 25860, 28423,  1140,    11, 43791,  2232,  3362,  3854,\n",
       "          5034,   290,  7068,  5579,   571,  1940,   366,  3163,  3043,     1,\n",
       "         20531,  2637,    60, 50256]),\n",
       " 'labels': tensor([ -100,  -100,  -100,  -100,  -100,  -100,  -100,  -100,  -100,  -100,\n",
       "          -100,  -100,  -100,  -100,  -100,  -100,  -100,  -100,  -100,  -100,\n",
       "          -100,  -100,  -100,  -100,  -100,  -100,  -100,  -100,  -100,  -100,\n",
       "          -100,  -100,  -100,  -100,  -100,  -100,  -100,  -100,  -100,  -100,\n",
       "          -100,  -100,  -100,  -100,  -100,  -100, 17816,  2061,   466,   345,\n",
       "           760,   546,   262,  1748,   286, 44985,   287,  8838,  8348,   198,\n",
       "           705,    32,   527, 39060,   318,   257,  1748,  5140,   287,   262,\n",
       "          2258,  3687,   286,  8838,    13,  1081,   286, 12131,   340,   550,\n",
       "           257,  3265,   286,   939,    11,   830,   661,   290,   318,   262,\n",
       "          2368,  4387,  1748,   287,  8838,    11,  2157, 23475,   357, 40064,\n",
       "            11,   830,     8,   290, 23995,   357, 39132,    11,   830,   737,\n",
       "         44985,   468,   587,  6412,   284,   355,   366,   464,  7698,  2254,\n",
       "             1,  2233,   284,   262,  1029,  1271,   286,  6832,   287,   262,\n",
       "          1748, 12006,   286, 17113,   578,   422,   262,  1957, 47780,    11,\n",
       "           543,   743,  9009,   293,   319,   262,  4071,  6695,   326,   262,\n",
       "         19606,  7127,   262,  6832,    13,   220,  4619,   262,  9507, 43054,\n",
       "            82,   262,  1748, 43054,    82,  3773,   468,  5688,  2710,  5634,\n",
       "          1088, 11474,  1222, 14345,  2233,   284,   663, 20387,   284,   262,\n",
       "          2258,  6896, 11474,  9412,    13,   220,   220, 44985,   468,   734,\n",
       "         11155,    26,   262,  2059,   286, 44985,   290,  5199, 11646,  2059,\n",
       "            13,  1892,   540,   661,   508,   423,   587,  3917,   351, 44985,\n",
       "          2291, 14015, 25860, 28423,  1140,    11, 43791,  2232,  3362,  3854,\n",
       "          5034,   290,  7068,  5579,   571,  1940,   366,  3163,  3043,     1,\n",
       "         20531,  2637,    60, 50256])}"
      ]
     },
     "execution_count": 21,
     "metadata": {},
     "output_type": "execute_result"
    }
   ],
   "source": [
    "x"
   ]
  },
  {
   "cell_type": "code",
   "execution_count": null,
   "metadata": {
    "id": "sFQrZ6JoeiQ3"
   },
   "outputs": [],
   "source": []
  },
  {
   "cell_type": "code",
   "execution_count": 27,
   "metadata": {
    "colab": {
     "base_uri": "https://localhost:8080/"
    },
    "id": "Sm1KyoB3WRs4",
    "outputId": "50a6ed1b-42ea-429e-dcfd-1f8c3586ec60"
   },
   "outputs": [
    {
     "data": {
      "text/plain": [
       "GPT2LMHeadModel(\n",
       "  (transformer): GPT2Model(\n",
       "    (wte): Embedding(50257, 768)\n",
       "    (wpe): Embedding(1024, 768)\n",
       "    (drop): Dropout(p=0.1, inplace=False)\n",
       "    (h): ModuleList(\n",
       "      (0-11): 12 x GPT2Block(\n",
       "        (ln_1): LayerNorm((768,), eps=1e-05, elementwise_affine=True)\n",
       "        (attn): GPT2Attention(\n",
       "          (c_attn): Conv1D()\n",
       "          (c_proj): Conv1D()\n",
       "          (attn_dropout): Dropout(p=0.1, inplace=False)\n",
       "          (resid_dropout): Dropout(p=0.1, inplace=False)\n",
       "        )\n",
       "        (ln_2): LayerNorm((768,), eps=1e-05, elementwise_affine=True)\n",
       "        (mlp): GPT2MLP(\n",
       "          (c_fc): Conv1D()\n",
       "          (c_proj): Conv1D()\n",
       "          (act): NewGELUActivation()\n",
       "          (dropout): Dropout(p=0.1, inplace=False)\n",
       "        )\n",
       "      )\n",
       "    )\n",
       "    (ln_f): LayerNorm((768,), eps=1e-05, elementwise_affine=True)\n",
       "  )\n",
       "  (lm_head): Linear(in_features=768, out_features=50257, bias=False)\n",
       ")"
      ]
     },
     "execution_count": 27,
     "metadata": {},
     "output_type": "execute_result"
    }
   ],
   "source": [
    "model = transformers.AutoModelForCausalLM.from_pretrained(\n",
    "    'gpt2',\n",
    "    torch_dtype=torch.float64,\n",
    ")\n",
    "\n",
    "model.to(device)"
   ]
  },
  {
   "cell_type": "code",
   "execution_count": 82,
   "metadata": {
    "id": "pb02GS4tWfMI"
   },
   "outputs": [],
   "source": []
  },
  {
   "cell_type": "code",
   "execution_count": 182,
   "metadata": {
    "id": "2D-a94VIcZLr"
   },
   "outputs": [],
   "source": []
  },
  {
   "cell_type": "code",
   "execution_count": 29,
   "metadata": {
    "colab": {
     "base_uri": "https://localhost:8080/"
    },
    "id": "bxg6m0EDfnzd",
    "outputId": "01c57f5b-374f-43e1-a56b-8f19c19c3400"
   },
   "outputs": [
    {
     "name": "stdout",
     "output_type": "stream",
     "text": [
      "Loss value: 8.820287172356947\n",
      "Loss value: 8.755766937020562\n",
      "Loss value: 8.715806088868316\n",
      "Loss value: 8.554888604164757\n",
      "Loss value: 8.767579415921402\n",
      "Loss value: 8.73946592751169\n",
      "Loss value: 8.60818522848961\n",
      "Loss value: 8.23811645478674\n",
      "Loss value: 8.310116901029604\n",
      "Loss value: 8.546378518786343\n"
     ]
    }
   ],
   "source": [
    "loss = nn.CrossEntropyLoss()\n",
    "optimizer = torch.optim.Adam(params=model.parameters(), lr=1e-6)\n",
    "OUTPUT_SIZE = 256\n",
    "N_ITERATIONS = 10\n",
    "cur_iteration = 0\n",
    "for x in train_dl:\n",
    "    if cur_iteration == N_ITERATIONS:\n",
    "          break\n",
    "\n",
    "    model.train()\n",
    "    #################\n",
    "    input_tokens = x['input_ids'].to(device)\n",
    "    labels = x['labels'].clone().to(device)\n",
    "    out_logits = model(input_ids=input_tokens).logits\n",
    "    labels[labels == tokenizer.pad_token_id] = -100\n",
    "    loss_value = loss(out_logits, labels)\n",
    "    #################\n",
    "    print(f\"Loss value: {loss_value.item()}\")\n",
    "    loss_value.backward()\n",
    "    optimizer.step()\n",
    "\n",
    "    model.eval()\n",
    "    cur_iteration += 1"
   ]
  },
  {
   "cell_type": "code",
   "execution_count": null,
   "metadata": {
    "id": "4TkB-8Zt5emp"
   },
   "outputs": [],
   "source": []
  },
  {
   "cell_type": "code",
   "execution_count": 68,
   "metadata": {
    "id": "RfKlly99WfUf"
   },
   "outputs": [],
   "source": []
  },
  {
   "cell_type": "code",
   "execution_count": null,
   "metadata": {
    "id": "HDLyT9RVJWbJ"
   },
   "outputs": [],
   "source": []
  },
  {
   "cell_type": "markdown",
   "metadata": {
    "id": "IiPDWusuJW_F"
   },
   "source": [
    "# **Reward Model**"
   ]
  },
  {
   "cell_type": "code",
   "execution_count": 30,
   "metadata": {
    "id": "fWsvHIxqzoty"
   },
   "outputs": [],
   "source": [
    "import pandas as pd"
   ]
  },
  {
   "cell_type": "code",
   "execution_count": 31,
   "metadata": {
    "id": "BDpjwisK5HxZ"
   },
   "outputs": [],
   "source": [
    "rm_df = pd.read_parquet('argilla_df.parquet')"
   ]
  },
  {
   "cell_type": "code",
   "execution_count": 32,
   "metadata": {
    "id": "jd4p4lqhzKUg"
   },
   "outputs": [],
   "source": [
    "rm_df = rm_df[2467:]"
   ]
  },
  {
   "cell_type": "code",
   "execution_count": null,
   "metadata": {
    "id": "T3b-zdTAzKbv"
   },
   "outputs": [],
   "source": []
  },
  {
   "cell_type": "code",
   "execution_count": 33,
   "metadata": {
    "id": "heVWQQKO5WSD"
   },
   "outputs": [],
   "source": [
    "from torch.utils.data import Dataset\n",
    "from typing import Dict, Sequence, List, Iterator, Tuple\n",
    "\n",
    "IGNORE_INDEX: int = -100\n",
    "bos_token_id = 50256\n",
    "\n",
    "def _tokenize_fn(text: str, max_length: int, tokenizer: transformers.PreTrainedTokenizer) -> List[int]:\n",
    "    return tokenizer(\n",
    "        text,\n",
    "        max_length=max_length,\n",
    "        truncation=True,\n",
    "        add_special_tokens=False,\n",
    "    )['input_ids']\n",
    "\n",
    "\n",
    "class RewardDataset(Dataset):\n",
    "    \"\"\"Dataset for supervised fine-tuning.\"\"\"\n",
    "    def __init__(self, dataset, tokenizer: transformers.PreTrainedTokenizer):\n",
    "        super(RewardDataset, self).__init__()\n",
    "        self.tokenizer = tokenizer\n",
    "\n",
    "        bos_token = tokenizer.bos_token if tokenizer.bos_token is not None else ''\n",
    "        self.chosen = [f\"{bos_token}{dataset[0]}\\n###answer: {dataset[1]}\" for example in dataset]\n",
    "        self.rejected = [f\"{bos_token}{dataset[0]}\\n###answer: {dataset[2]}\" for example in dataset]\n",
    "\n",
    "    def __len__(self) -> int:\n",
    "        return len(self.chosen)\n",
    "\n",
    "    def __getitem__(self, i: int) -> Dict[str, List[int]]:\n",
    "        chosen_ids = _tokenize_fn(self.chosen[i], self.tokenizer.model_max_length, self.tokenizer)\n",
    "        rejected_ids = _tokenize_fn(self.rejected[i], self.tokenizer.model_max_length, self.tokenizer)\n",
    "\n",
    "        min_length = min(len(chosen_ids), len(rejected_ids))\n",
    "\n",
    "        return dict(\n",
    "            input_ids_chosen=torch.tensor(chosen_ids[:min_length] + [bos_token_id]),\n",
    "            input_ids_rejected=torch.tensor(rejected_ids[:min_length] + [bos_token_id])\n",
    "        )\n"
   ]
  },
  {
   "cell_type": "code",
   "execution_count": 51,
   "metadata": {
    "id": "U99GwxGFqSIC"
   },
   "outputs": [],
   "source": []
  },
  {
   "cell_type": "code",
   "execution_count": 34,
   "metadata": {
    "id": "_DhbTN-iqSK2"
   },
   "outputs": [],
   "source": [
    "train_rm = RewardDataset(\n",
    "    dataset=rm_df[['prompt', 'original_response', 'response-2']].values,\n",
    "    tokenizer=tokenizer,\n",
    ")"
   ]
  },
  {
   "cell_type": "code",
   "execution_count": 35,
   "metadata": {
    "id": "UrQju6GXwQJ9"
   },
   "outputs": [],
   "source": [
    "for x in train_rm:\n",
    "      break"
   ]
  },
  {
   "cell_type": "code",
   "execution_count": 36,
   "metadata": {
    "colab": {
     "base_uri": "https://localhost:8080/"
    },
    "id": "nxYcj1HSwSrL",
    "outputId": "a806efa1-25e9-4efb-b53d-d209d9904214"
   },
   "outputs": [
    {
     "data": {
      "text/plain": [
       "{'input_ids_chosen': tensor([50256, 17816,  5376,  1936,  2678,   287,   262,  8342, 42811,     6,\n",
       "           198,   705, 17940,    11,  4881,    11,  3794,    11, 17837,   290,\n",
       "          7137,   389,  2678,  5140,   287,   262,  8342, 42811,  2637,   198,\n",
       "           705,  5376,  1936,  2678,   287,   262,  8342, 42811,   326,   389,\n",
       "          5140,  5000,  1626,   262, 32909, 16291,    13,    59,    77,   464,\n",
       "          1936,  2678,   287,   262,  8342, 42811,   326,   389,  5140,  5000,\n",
       "          1626,   262, 32909, 16291,   389, 15238,    11, 30155,    11, 17333,\n",
       "            11,  3284,    11,   290,  3340,  2637,    60,   198, 21017, 41484,\n",
       "            25, 37250,  9487,  1958,   262,  1708,   355,   852,  2035,   852,\n",
       "           257,  2099,   286, 21027,   393,   257,  2099,   286,  6512,    25,\n",
       "           220, 15554,  2256,    11, 31176,    11, 26241,    11,  2497,  1462,\n",
       "           849,    11,  2042, 22504,    11, 22812,  2305,    11,   267,  2777,\n",
       "          4364,    11, 24215,  1102,    11,  1049,  2330,  2637,   198,   705,\n",
       "         21281,   647,  2256,    11, 26241,    11,  2497,  1462,   849,    11,\n",
       "          2042, 22504,    11,   290,  1049,  2330,   389,  3858,   286, 27476,\n",
       "            13,   220, 18456,    11, 22812,  2305,    11,   267,  2777,  4364,\n",
       "            11,   290, 24215,  1102,   389,  3858,   286, 10087,  2637,   198,\n",
       "           705,    50,   707,  1462,   849,    11,  2042, 22504,    11,   290,\n",
       "           267,  2777,  4364,   389,  3858,   286,  5916,    11,   407, 27476,\n",
       "           393, 10087,    13, 18278,  2256,    11, 31176,    11, 26241,    11,\n",
       "           290, 22812,  2305,   389,  3858,   286,  6512,    13,  3878,  2330,\n",
       "           318,   257,  2099,   286, 21027,  2637, 50256]),\n",
       " 'input_ids_rejected': tensor([50256, 17816,  5376,  1936,  2678,   287,   262,  8342, 42811,     6,\n",
       "           198,   705, 17940,    11,  4881,    11,  3794,    11, 17837,   290,\n",
       "          7137,   389,  2678,  5140,   287,   262,  8342, 42811,  2637,   198,\n",
       "           705,  5376,  1936,  2678,   287,   262,  8342, 42811,   326,   389,\n",
       "          5140,  5000,  1626,   262, 32909, 16291,    13,    59,    77,   464,\n",
       "          1936,  2678,   287,   262,  8342, 42811,   326,   389,  5140,  5000,\n",
       "          1626,   262, 32909, 16291,   389, 15238,    11, 30155,    11, 17333,\n",
       "            11,  3284,    11,   290,  3340,  2637,    60,   198, 21017, 41484,\n",
       "            25, 37250, 23318,   502,   513,  6635,  7310,  2842,   284,  4483,\n",
       "           257, 25996,     6,   198,   705,  6435,   417,   290,  1011, 26081,\n",
       "           286,   262,  2187, 25996,    26,  2005,   510,   262, 25996,   656,\n",
       "         24314,    26, 30407,   262, 25996,   290,  5022,   340,   351,  7545,\n",
       "           287,   257, 40047,     6,   198,   705, 23318,   502,   513,  6635,\n",
       "          7310,  2842,   284,  4483,   257, 25996,    13,    59,    77,    16,\n",
       "            13,  1081,   257,  8246,    11, 29036, 25996,    11, 26790,    13,\n",
       "           770,   318,   262,   749,  2219,   835,   284, 15000,   257, 25996,\n",
       "            13,   362,    13,   554,  7209,   444,   393,  8234, 47668,    11,\n",
       "         49159,   351, 32132,    11,   393,   355,   257, 16871, 18734,   287,\n",
       "         30849,    11,  8509,    82,    11,   290,  1613,  1678,    13,   513,\n",
       "            13,   554, 25996,  8509,    11,   810,   262,  8234,   318, 49159,\n",
       "           290,  7668,   351,  9391,   588,  9215,   290,  7543,   878,  4375,\n",
       "           284,   262,  8509,  4984,  2637,    60, 50256])}"
      ]
     },
     "execution_count": 36,
     "metadata": {},
     "output_type": "execute_result"
    }
   ],
   "source": [
    "x"
   ]
  },
  {
   "cell_type": "code",
   "execution_count": 37,
   "metadata": {
    "colab": {
     "base_uri": "https://localhost:8080/"
    },
    "id": "y0p2MP-lqSRm",
    "outputId": "eb24c616-ca5c-4474-a73e-b1b186e8f1d4"
   },
   "outputs": [
    {
     "data": {
      "text/plain": [
       "GPT2LMHeadModel(\n",
       "  (transformer): GPT2Model(\n",
       "    (wte): Embedding(50257, 768)\n",
       "    (wpe): Embedding(1024, 768)\n",
       "    (drop): Dropout(p=0.1, inplace=False)\n",
       "    (h): ModuleList(\n",
       "      (0-11): 12 x GPT2Block(\n",
       "        (ln_1): LayerNorm((768,), eps=1e-05, elementwise_affine=True)\n",
       "        (attn): GPT2Attention(\n",
       "          (c_attn): Conv1D()\n",
       "          (c_proj): Conv1D()\n",
       "          (attn_dropout): Dropout(p=0.1, inplace=False)\n",
       "          (resid_dropout): Dropout(p=0.1, inplace=False)\n",
       "        )\n",
       "        (ln_2): LayerNorm((768,), eps=1e-05, elementwise_affine=True)\n",
       "        (mlp): GPT2MLP(\n",
       "          (c_fc): Conv1D()\n",
       "          (c_proj): Conv1D()\n",
       "          (act): NewGELUActivation()\n",
       "          (dropout): Dropout(p=0.1, inplace=False)\n",
       "        )\n",
       "      )\n",
       "    )\n",
       "    (ln_f): LayerNorm((768,), eps=1e-05, elementwise_affine=True)\n",
       "  )\n",
       "  (lm_head): Linear(in_features=768, out_features=50257, bias=False)\n",
       ")"
      ]
     },
     "execution_count": 37,
     "metadata": {},
     "output_type": "execute_result"
    }
   ],
   "source": [
    "model = transformers.AutoModelForCausalLM.from_pretrained(\n",
    "    'gpt2',\n",
    "    torch_dtype=torch.float64,\n",
    ")\n",
    "\n",
    "model.to(device)"
   ]
  },
  {
   "cell_type": "code",
   "execution_count": null,
   "metadata": {
    "id": "v0Hq5YIk5WXu"
   },
   "outputs": [],
   "source": []
  },
  {
   "cell_type": "code",
   "execution_count": 38,
   "metadata": {
    "colab": {
     "base_uri": "https://localhost:8080/"
    },
    "id": "H3MLI8555Wa3",
    "outputId": "3a8c785a-a2a8-4091-9809-25b12702fe50"
   },
   "outputs": [
    {
     "name": "stdout",
     "output_type": "stream",
     "text": [
      "Loss value: 12.560367009876542\n",
      "Loss value: 12.83289847798418\n",
      "Loss value: 17.986245992511734\n",
      "Loss value: 11.951677311417672\n",
      "Loss value: 13.093826860505558\n",
      "Loss value: 12.679522068155327\n",
      "Loss value: 9.535560513681435\n",
      "Loss value: 8.263899231624476\n",
      "Loss value: 11.218700475602228\n",
      "Loss value: 12.972257917681253\n"
     ]
    }
   ],
   "source": [
    "loss = nn.CrossEntropyLoss()\n",
    "optimizer = torch.optim.Adam(params=model.parameters(), lr=1e-6)\n",
    "OUTPUT_SIZE = 256\n",
    "DEVICE = 'cuda'\n",
    "N_ITERATIONS = 10\n",
    "cur_iteration = 0\n",
    "for x in train_rm:\n",
    "    if cur_iteration == N_ITERATIONS:\n",
    "          break\n",
    "\n",
    "    model.train()\n",
    "    #################\n",
    "    input_ids_chosen = x['input_ids_chosen'].to(device)\n",
    "    input_ids_rejected = x['input_ids_rejected'].to(device)\n",
    "\n",
    "    rewards_chosen = model(input_ids=input_ids_chosen).logits\n",
    "    rewards_rejected = model(input_ids=input_ids_rejected).logits\n",
    "\n",
    "    loss_value = -nn.functional.logsigmoid(rewards_chosen - rewards_rejected).mean()\n",
    "    #################\n",
    "    print(f\"Loss value: {loss_value.item()}\")\n",
    "    loss_value.backward()\n",
    "    optimizer.step()\n",
    "\n",
    "    model.eval()\n",
    "    cur_iteration += 1"
   ]
  },
  {
   "cell_type": "code",
   "execution_count": null,
   "metadata": {
    "id": "6zhRhOYcDJDY"
   },
   "outputs": [],
   "source": []
  },
  {
   "cell_type": "code",
   "execution_count": null,
   "metadata": {
    "id": "WzvV7SmIJR3r"
   },
   "outputs": [],
   "source": []
  },
  {
   "cell_type": "code",
   "execution_count": null,
   "metadata": {
    "id": "B6TPMGX-JSDM"
   },
   "outputs": [],
   "source": []
  },
  {
   "cell_type": "code",
   "execution_count": 75,
   "metadata": {
    "id": "yCrSV8CJgq76"
   },
   "outputs": [],
   "source": []
  },
  {
   "cell_type": "code",
   "execution_count": null,
   "metadata": {
    "id": "V1hVFqdwcb7U"
   },
   "outputs": [],
   "source": []
  }
 ],
 "metadata": {
  "accelerator": "GPU",
  "colab": {
   "gpuType": "T4",
   "provenance": []
  },
  "kernelspec": {
   "display_name": "Python 3",
   "language": "python",
   "name": "python3"
  },
  "language_info": {
   "codemirror_mode": {
    "name": "ipython",
    "version": 3
   },
   "file_extension": ".py",
   "mimetype": "text/x-python",
   "name": "python",
   "nbconvert_exporter": "python",
   "pygments_lexer": "ipython3",
   "version": "3.9.10"
  }
 },
 "nbformat": 4,
 "nbformat_minor": 1
}
