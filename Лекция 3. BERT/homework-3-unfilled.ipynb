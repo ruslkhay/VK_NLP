{
 "cells": [
  {
   "cell_type": "code",
   "execution_count": 1,
   "metadata": {
    "_cell_guid": "b1076dfc-b9ad-4769-8c92-a6c4dae69d19",
    "_uuid": "8f2839f25d086af736a60e9eeb907d3b93b6e0e5",
    "execution": {
     "iopub.execute_input": "2024-03-05T20:06:55.613658Z",
     "iopub.status.busy": "2024-03-05T20:06:55.613269Z",
     "iopub.status.idle": "2024-03-05T20:06:56.006424Z",
     "shell.execute_reply": "2024-03-05T20:06:56.005252Z",
     "shell.execute_reply.started": "2024-03-05T20:06:55.613627Z"
    }
   },
   "outputs": [
    {
     "name": "stdout",
     "output_type": "stream",
     "text": [
      "/kaggle/input/russianinappropriatemessages/Inappapropriate_messages.csv\n"
     ]
    }
   ],
   "source": [
    "# This Python 3 environment comes with many helpful analytics libraries installed\n",
    "# It is defined by the kaggle/python Docker image: https://github.com/kaggle/docker-python\n",
    "# For example, here's several helpful packages to load\n",
    "\n",
    "import numpy as np # linear algebra\n",
    "import pandas as pd # data processing, CSV file I/O (e.g. pd.read_csv)\n",
    "\n",
    "# Input data files are available in the read-only \"../input/\" directory\n",
    "# For example, running this (by clicking run or pressing Shift+Enter) will list all files under the input directory\n",
    "\n",
    "import os\n",
    "for dirname, _, filenames in os.walk('/kaggle/input'):\n",
    "    for filename in filenames:\n",
    "        print(os.path.join(dirname, filename))\n",
    "\n",
    "# You can write up to 20GB to the current directory (/kaggle/working/) that gets preserved as output when you create a version using \"Save & Run All\" \n",
    "# You can also write temporary files to /kaggle/temp/, but they won't be saved outside of the current session"
   ]
  },
  {
   "cell_type": "code",
   "execution_count": 2,
   "metadata": {
    "execution": {
     "iopub.execute_input": "2024-03-05T20:06:56.787232Z",
     "iopub.status.busy": "2024-03-05T20:06:56.786728Z",
     "iopub.status.idle": "2024-03-05T20:07:01.037066Z",
     "shell.execute_reply": "2024-03-05T20:07:01.036080Z",
     "shell.execute_reply.started": "2024-03-05T20:06:56.787201Z"
    }
   },
   "outputs": [],
   "source": [
    "# pip install transformers sentencepiece\n",
    "import torch\n",
    "from transformers import AutoTokenizer, AutoModel\n",
    "import seaborn as sns\n",
    "\n",
    "from datasets import load_dataset\n",
    "from sklearn.metrics.pairwise import cosine_similarity\n",
    "import pandas as pd\n",
    "from tqdm.notebook import tqdm"
   ]
  },
  {
   "cell_type": "code",
   "execution_count": 3,
   "metadata": {
    "execution": {
     "iopub.execute_input": "2024-03-05T20:07:03.015443Z",
     "iopub.status.busy": "2024-03-05T20:07:03.014525Z",
     "iopub.status.idle": "2024-03-05T20:07:04.055064Z",
     "shell.execute_reply": "2024-03-05T20:07:04.053923Z",
     "shell.execute_reply.started": "2024-03-05T20:07:03.015408Z"
    }
   },
   "outputs": [],
   "source": [
    "tokenizer = AutoTokenizer.from_pretrained(\"cointegrated/rubert-tiny\")\n",
    "model = AutoModel.from_pretrained(\"cointegrated/rubert-tiny\")\n",
    "# model.cuda()  # uncomment it if you have a GPU"
   ]
  },
  {
   "cell_type": "code",
   "execution_count": 4,
   "metadata": {
    "execution": {
     "iopub.execute_input": "2024-03-05T20:07:05.683775Z",
     "iopub.status.busy": "2024-03-05T20:07:05.682592Z",
     "iopub.status.idle": "2024-03-05T20:07:05.691535Z",
     "shell.execute_reply": "2024-03-05T20:07:05.690552Z",
     "shell.execute_reply.started": "2024-03-05T20:07:05.683740Z"
    }
   },
   "outputs": [
    {
     "data": {
      "text/plain": [
       "BertModel(\n",
       "  (embeddings): BertEmbeddings(\n",
       "    (word_embeddings): Embedding(29564, 312, padding_idx=0)\n",
       "    (position_embeddings): Embedding(512, 312)\n",
       "    (token_type_embeddings): Embedding(2, 312)\n",
       "    (LayerNorm): LayerNorm((312,), eps=1e-12, elementwise_affine=True)\n",
       "    (dropout): Dropout(p=0.1, inplace=False)\n",
       "  )\n",
       "  (encoder): BertEncoder(\n",
       "    (layer): ModuleList(\n",
       "      (0-2): 3 x BertLayer(\n",
       "        (attention): BertAttention(\n",
       "          (self): BertSelfAttention(\n",
       "            (query): Linear(in_features=312, out_features=312, bias=True)\n",
       "            (key): Linear(in_features=312, out_features=312, bias=True)\n",
       "            (value): Linear(in_features=312, out_features=312, bias=True)\n",
       "            (dropout): Dropout(p=0.1, inplace=False)\n",
       "          )\n",
       "          (output): BertSelfOutput(\n",
       "            (dense): Linear(in_features=312, out_features=312, bias=True)\n",
       "            (LayerNorm): LayerNorm((312,), eps=1e-12, elementwise_affine=True)\n",
       "            (dropout): Dropout(p=0.1, inplace=False)\n",
       "          )\n",
       "        )\n",
       "        (intermediate): BertIntermediate(\n",
       "          (dense): Linear(in_features=312, out_features=600, bias=True)\n",
       "          (intermediate_act_fn): GELUActivation()\n",
       "        )\n",
       "        (output): BertOutput(\n",
       "          (dense): Linear(in_features=600, out_features=312, bias=True)\n",
       "          (LayerNorm): LayerNorm((312,), eps=1e-12, elementwise_affine=True)\n",
       "          (dropout): Dropout(p=0.1, inplace=False)\n",
       "        )\n",
       "      )\n",
       "    )\n",
       "  )\n",
       "  (pooler): BertPooler(\n",
       "    (dense): Linear(in_features=312, out_features=312, bias=True)\n",
       "    (activation): Tanh()\n",
       "  )\n",
       ")"
      ]
     },
     "execution_count": 4,
     "metadata": {},
     "output_type": "execute_result"
    }
   ],
   "source": [
    "model"
   ]
  },
  {
   "cell_type": "code",
   "execution_count": 5,
   "metadata": {
    "execution": {
     "iopub.execute_input": "2024-03-05T20:07:07.135362Z",
     "iopub.status.busy": "2024-03-05T20:07:07.135014Z",
     "iopub.status.idle": "2024-03-05T20:07:07.156699Z",
     "shell.execute_reply": "2024-03-05T20:07:07.155756Z",
     "shell.execute_reply.started": "2024-03-05T20:07:07.135336Z"
    }
   },
   "outputs": [],
   "source": [
    "text = [\"LLM - смысл моей жизни\", \"Не знаю, как мне жить без LLM\"]\n",
    "t = tokenizer(text, padding=True, truncation=True, return_tensors='pt')\n",
    "with torch.no_grad():\n",
    "    inputs = {k: v.to(model.device) for k, v in t.items()}\n",
    "    model_output = model(**inputs)"
   ]
  },
  {
   "cell_type": "code",
   "execution_count": 6,
   "metadata": {
    "execution": {
     "iopub.execute_input": "2024-03-05T20:07:08.682039Z",
     "iopub.status.busy": "2024-03-05T20:07:08.681242Z",
     "iopub.status.idle": "2024-03-05T20:07:08.687384Z",
     "shell.execute_reply": "2024-03-05T20:07:08.686414Z",
     "shell.execute_reply.started": "2024-03-05T20:07:08.682005Z"
    }
   },
   "outputs": [
    {
     "name": "stdout",
     "output_type": "stream",
     "text": [
      "13 ['[CLS]', 'LL', '##M', '-', 'см', '##ыс', '##л', 'м', '##ое', '##й', 'жизни', '[SEP]', '[PAD]']\n",
      "13 ['[CLS]', 'Не', 'з', '##на', '##ю', ',', 'как', 'мне', 'жить', 'без', 'LL', '##M', '[SEP]']\n"
     ]
    }
   ],
   "source": [
    "print(len(t[0].tokens), t[0].tokens)\n",
    "print(len(t[1].tokens), t[1].tokens)"
   ]
  },
  {
   "cell_type": "markdown",
   "metadata": {},
   "source": [
    "## 1 - Padding\n",
    "\n",
    "Обратите внимание, что в конце каждого из двух предложений добавляется спецтокен [SEP] (даже без упоминания задачи NSP), а также в первом тексте добавлен токен [PAD]. Почему добавлен токен [PAD]?"
   ]
  },
  {
   "cell_type": "code",
   "execution_count": 7,
   "metadata": {
    "execution": {
     "iopub.execute_input": "2024-03-05T20:07:10.255524Z",
     "iopub.status.busy": "2024-03-05T20:07:10.254422Z",
     "iopub.status.idle": "2024-03-05T20:07:10.261962Z",
     "shell.execute_reply": "2024-03-05T20:07:10.260718Z",
     "shell.execute_reply.started": "2024-03-05T20:07:10.255485Z"
    }
   },
   "outputs": [
    {
     "data": {
      "text/plain": [
       "dict_keys(['input_ids', 'token_type_ids', 'attention_mask'])"
      ]
     },
     "execution_count": 7,
     "metadata": {},
     "output_type": "execute_result"
    }
   ],
   "source": [
    "t.keys()"
   ]
  },
  {
   "cell_type": "code",
   "execution_count": 8,
   "metadata": {
    "execution": {
     "iopub.execute_input": "2024-03-05T20:07:11.306955Z",
     "iopub.status.busy": "2024-03-05T20:07:11.306263Z",
     "iopub.status.idle": "2024-03-05T20:07:11.314912Z",
     "shell.execute_reply": "2024-03-05T20:07:11.313663Z",
     "shell.execute_reply.started": "2024-03-05T20:07:11.306922Z"
    }
   },
   "outputs": [
    {
     "data": {
      "text/plain": [
       "tensor([[    2,  9416,  1521,    17,  4159, 11654,   869,   324,  4427,   775,\n",
       "          4482,     3,     0],\n",
       "        [    2,  6226,   319,   794,   920,    16,  1150, 20284, 27162,  2399,\n",
       "          9416,  1521,     3]])"
      ]
     },
     "execution_count": 8,
     "metadata": {},
     "output_type": "execute_result"
    }
   ],
   "source": [
    "t.input_ids"
   ]
  },
  {
   "cell_type": "code",
   "execution_count": 9,
   "metadata": {
    "execution": {
     "iopub.execute_input": "2024-03-05T20:07:11.828203Z",
     "iopub.status.busy": "2024-03-05T20:07:11.827843Z",
     "iopub.status.idle": "2024-03-05T20:07:11.835649Z",
     "shell.execute_reply": "2024-03-05T20:07:11.834531Z",
     "shell.execute_reply.started": "2024-03-05T20:07:11.828175Z"
    }
   },
   "outputs": [
    {
     "data": {
      "text/plain": [
       "tensor([[0, 0, 0, 0, 0, 0, 0, 0, 0, 0, 0, 0, 0],\n",
       "        [0, 0, 0, 0, 0, 0, 0, 0, 0, 0, 0, 0, 0]])"
      ]
     },
     "execution_count": 9,
     "metadata": {},
     "output_type": "execute_result"
    }
   ],
   "source": [
    "t.token_type_ids"
   ]
  },
  {
   "cell_type": "markdown",
   "metadata": {},
   "source": [
    "Attention-маска определяет, какие токены будут использоваться для подсчета self-attention в каждом энкодер-блоке. В случае BERT мы игнорируем все [PAD]-токены в таких подсчетах, тк padding не несет никакой семантики и кол-во таких токенов зависит от размера контекста либо наиболее длинной последовательности в батче"
   ]
  },
  {
   "cell_type": "code",
   "execution_count": 10,
   "metadata": {
    "execution": {
     "iopub.execute_input": "2024-03-05T20:07:23.888419Z",
     "iopub.status.busy": "2024-03-05T20:07:23.887605Z",
     "iopub.status.idle": "2024-03-05T20:07:23.896268Z",
     "shell.execute_reply": "2024-03-05T20:07:23.895088Z",
     "shell.execute_reply.started": "2024-03-05T20:07:23.888349Z"
    }
   },
   "outputs": [
    {
     "data": {
      "text/plain": [
       "tensor([[1, 1, 1, 1, 1, 1, 1, 1, 1, 1, 1, 1, 0],\n",
       "        [1, 1, 1, 1, 1, 1, 1, 1, 1, 1, 1, 1, 1]])"
      ]
     },
     "execution_count": 10,
     "metadata": {},
     "output_type": "execute_result"
    }
   ],
   "source": [
    "t.attention_mask"
   ]
  },
  {
   "cell_type": "markdown",
   "metadata": {},
   "source": [
    "## 2 - Выход модели BERT"
   ]
  },
  {
   "cell_type": "code",
   "execution_count": 11,
   "metadata": {
    "execution": {
     "iopub.execute_input": "2024-03-05T20:07:27.032498Z",
     "iopub.status.busy": "2024-03-05T20:07:27.031737Z",
     "iopub.status.idle": "2024-03-05T20:07:27.039012Z",
     "shell.execute_reply": "2024-03-05T20:07:27.037939Z",
     "shell.execute_reply.started": "2024-03-05T20:07:27.032461Z"
    }
   },
   "outputs": [
    {
     "data": {
      "text/plain": [
       "odict_keys(['last_hidden_state', 'pooler_output'])"
      ]
     },
     "execution_count": 11,
     "metadata": {},
     "output_type": "execute_result"
    }
   ],
   "source": [
    "model_output.keys()"
   ]
  },
  {
   "cell_type": "markdown",
   "metadata": {},
   "source": [
    "Определите, какая размерность будет на выходе из последнего слоя данной BERT-модели при данном входе:"
   ]
  },
  {
   "cell_type": "code",
   "execution_count": null,
   "metadata": {},
   "outputs": [],
   "source": [
    "print('Shape выхода одного текста (первая размерность отвечает за batch_size, то есть кол-во текстов):\\n\\n\\t', model_output.last_hidden_state.shape)"
   ]
  },
  {
   "cell_type": "code",
   "execution_count": null,
   "metadata": {},
   "outputs": [],
   "source": [
    "embeddings = model_output.last_hidden_state[:, 0, :]\n",
    "embeddings.shape"
   ]
  },
  {
   "cell_type": "markdown",
   "metadata": {},
   "source": [
    "Как правило, нейронные сети гораздо эффективнее обучаются, если подавать им на вход нормализованные данные. Поэтому BERT-эмбеддинги тоже часто нормализуют.\n",
    "\n",
    "Важно: нормализуем по размерности dim=1, которая соответствует компонентам одного эмбеддинга (то есть при подсчете mean и std используется эмбеддинг только одного текста)."
   ]
  },
  {
   "cell_type": "code",
   "execution_count": null,
   "metadata": {},
   "outputs": [],
   "source": [
    "embeddings = torch.nn.functional.normalize(embeddings)\n",
    "embeddings.shape"
   ]
  },
  {
   "cell_type": "markdown",
   "metadata": {},
   "source": [
    "Далее в качестве эмбеддинга всего текста можем взять эмбеддинг [CLS]-токена"
   ]
  },
  {
   "cell_type": "code",
   "execution_count": null,
   "metadata": {},
   "outputs": [],
   "source": [
    "embeddings = embeddings[0].cpu().numpy()\n",
    "embeddings.shape"
   ]
  },
  {
   "cell_type": "markdown",
   "metadata": {},
   "source": [
    "## 3 - BERT для поиска похожих"
   ]
  },
  {
   "cell_type": "markdown",
   "metadata": {},
   "source": [
    "Напишем функцию, с помощью которой будем считать эмбеддинги для нескольких текстов одновременно - батчами (на гпу это значительно ускоорит подсчет эмбеддингов, можете проверить)\n",
    "\n",
    "В функции предусмотрено два режима mode: \n",
    "* 'cls' - в качестве текстового эмбеддинга используем эмбеддинг [CLS] токена с последнего слоя\n",
    "* 'mean' - в качестве текстового эмбеддинга используем усредненный эмбеддинг всех значимых токенов с последнего слоя. Незначимые токены - токены [PAD], которые мы не используем в усреденении. Обратите внимание, как мы используем маску mask для выделения из всех эмбеддингов эмбеддинги только значимых токенов."
   ]
  },
  {
   "cell_type": "code",
   "execution_count": 16,
   "metadata": {
    "execution": {
     "iopub.execute_input": "2024-03-05T20:07:42.233905Z",
     "iopub.status.busy": "2024-03-05T20:07:42.233506Z",
     "iopub.status.idle": "2024-03-05T20:07:42.243513Z",
     "shell.execute_reply": "2024-03-05T20:07:42.242460Z",
     "shell.execute_reply.started": "2024-03-05T20:07:42.233874Z"
    }
   },
   "outputs": [],
   "source": [
    "def embed_bert_cls(text_batch, model, tokenizer, mode):\n",
    "    t = tokenizer(text_batch, padding=True, truncation=True, return_tensors='pt')\n",
    "    with torch.no_grad():\n",
    "        model_output = model(**{k: v.to(model.device) for k, v in t.items()})\n",
    "        \n",
    "        embeddings = None\n",
    "        if mode == 'mean':\n",
    "            embeddings = []\n",
    "            for embs, mask in zip(model_output.last_hidden_state, t.attention_mask):\n",
    "                embeddings.append( embs[mask.type(torch.bool)].mean(0).cpu() )\n",
    "            embeddings = torch.stack(embeddings)\n",
    "        elif mode == 'cls':\n",
    "            embeddings = model_output.last_hidden_state[:, 0, :].cpu()\n",
    "        else:\n",
    "            raise ValueError('Unknown mode')\n",
    "    \n",
    "    return torch.nn.functional.normalize(embeddings, dim=1)"
   ]
  },
  {
   "cell_type": "markdown",
   "metadata": {},
   "source": [
    "Скачаем новостные статьи как в дз 1"
   ]
  },
  {
   "cell_type": "code",
   "execution_count": 17,
   "metadata": {
    "execution": {
     "iopub.execute_input": "2024-03-05T20:07:43.809705Z",
     "iopub.status.busy": "2024-03-05T20:07:43.808947Z",
     "iopub.status.idle": "2024-03-05T20:07:43.816674Z",
     "shell.execute_reply": "2024-03-05T20:07:43.815428Z",
     "shell.execute_reply.started": "2024-03-05T20:07:43.809668Z"
    }
   },
   "outputs": [],
   "source": [
    "def get_dataset(train_size: int,\n",
    "                test_size: int,\n",
    "                ds_name_1: str = 'IlyaGusev/gazeta',\n",
    "               ): \n",
    "    \n",
    "    train_dataset = load_dataset(ds_name_1, split='train')\n",
    "    test_dataset = load_dataset(ds_name_1, split='test')\n",
    "\n",
    "    train_df = pd.DataFrame(train_dataset).iloc[:train_size]\n",
    "    print(train_df.shape)\n",
    "\n",
    "    test_df = pd.DataFrame(test_dataset)[:test_size]\n",
    "    print(test_df.shape)\n",
    "\n",
    "    train_texts = (train_df['title'] + '\\n' + train_df['text']).tolist()\n",
    "    test_texts = (test_df['title'] + '\\n' + test_df['text']).tolist()\n",
    "    \n",
    "    return train_texts, test_texts"
   ]
  },
  {
   "cell_type": "code",
   "execution_count": 18,
   "metadata": {
    "execution": {
     "iopub.execute_input": "2024-03-05T20:07:45.495538Z",
     "iopub.status.busy": "2024-03-05T20:07:45.495185Z",
     "iopub.status.idle": "2024-03-05T20:07:55.446263Z",
     "shell.execute_reply": "2024-03-05T20:07:55.445238Z",
     "shell.execute_reply.started": "2024-03-05T20:07:45.495509Z"
    }
   },
   "outputs": [
    {
     "name": "stdout",
     "output_type": "stream",
     "text": [
      "(10000, 5)\n",
      "(1000, 5)\n"
     ]
    }
   ],
   "source": [
    "train_texts, test_texts = get_dataset(10_000, 1_000)"
   ]
  },
  {
   "cell_type": "markdown",
   "metadata": {},
   "source": [
    "Оставим из новостей только заголовки для удобства их чтения (вам, ведь модель BERT вполне справится с чтением и всего текста) :)"
   ]
  },
  {
   "cell_type": "code",
   "execution_count": 19,
   "metadata": {
    "execution": {
     "iopub.execute_input": "2024-03-05T20:09:17.185532Z",
     "iopub.status.busy": "2024-03-05T20:09:17.184800Z",
     "iopub.status.idle": "2024-03-05T20:09:17.196677Z",
     "shell.execute_reply": "2024-03-05T20:09:17.195591Z",
     "shell.execute_reply.started": "2024-03-05T20:09:17.185493Z"
    }
   },
   "outputs": [
    {
     "data": {
      "text/plain": [
       "['В Германии объяснили упоминание имени Путина на протестах в Берлине ',\n",
       " 'Делегации Израиля и США прибыли в ОАЭ для обсуждения соглашения о сотрудничестве ',\n",
       " 'Оппозиция Белоруссии объявила о создании новой партии «Вместе» ',\n",
       " 'Россия считает крайне опасными действия США на учениях в Эстонии ',\n",
       " 'В России вступил в силу закон о внесудебном банкротстве частных лиц ',\n",
       " '100 лет назад Красная армия под командованием Фрунзе взяла Бухару ',\n",
       " 'В ООН ответили Поклонской по вопросу о водной блокаде Крыма Украиной ',\n",
       " 'Умер детский писатель Владислав Крапивин ',\n",
       " 'Минобороны РФ опровергло заявление НАТО о нарушении датских границ ',\n",
       " 'Трамп предрек революцию в Америке в случае победы Байдена ',\n",
       " 'Врачи предупредили об опасности ожирения при COVID-19 ',\n",
       " 'Помпео указал на рост активности военных РФ в различных регионах мира ',\n",
       " 'CNBC: решение о продаже TikTok примут в ближайшие сутки ',\n",
       " 'Лавров призвал Запад не навязывать Белоруссии «посреднические услуги» ',\n",
       " 'Депардье вспомнил, как Путин прислал за ним самолет ']"
      ]
     },
     "execution_count": 19,
     "metadata": {},
     "output_type": "execute_result"
    }
   ],
   "source": [
    "test_headlines = list(map(lambda w: w.split('\\n')[0], test_texts))\n",
    "test_headlines[:15]"
   ]
  },
  {
   "cell_type": "markdown",
   "metadata": {},
   "source": [
    "Как мы видим, новости во многом про политику, реже встречаются другие темы, например, про ковид:"
   ]
  },
  {
   "cell_type": "code",
   "execution_count": 20,
   "metadata": {
    "execution": {
     "iopub.execute_input": "2024-03-05T20:09:18.710395Z",
     "iopub.status.busy": "2024-03-05T20:09:18.710004Z",
     "iopub.status.idle": "2024-03-05T20:09:18.716615Z",
     "shell.execute_reply": "2024-03-05T20:09:18.715393Z",
     "shell.execute_reply.started": "2024-03-05T20:09:18.710353Z"
    }
   },
   "outputs": [
    {
     "data": {
      "text/plain": [
       "'Врачи предупредили об опасности ожирения при COVID-19 '"
      ]
     },
     "execution_count": 20,
     "metadata": {},
     "output_type": "execute_result"
    }
   ],
   "source": [
    "test_headlines[10]"
   ]
  },
  {
   "cell_type": "markdown",
   "metadata": {},
   "source": [
    "Подгрузим небольшую BERT-модель, чтобы быстро предподсчитать эмбеддинги. Далее мы будем использовать BERT как экстрактор семантических признаков из текста, т.е. с помощью BERT мы переведем текст в вектор в некотором пространстве, в котором в идеале семантически похожие тексты должны лежать близко друг к другу, а непохожие - далеко.\n",
    "\n",
    "rubert-tiny - небольшая дистиллированая BERT-модель (вспоминаем DistillBERT, который обсуждали на лекции), которая обучалась преимущественно на русскоязычном корпусе (то есть домен - тексты на русском языке). Подробности модели можете посмотреть на hugginface в карточке модели:\n",
    "\n",
    "https://huggingface.co/cointegrated/rubert-tiny"
   ]
  },
  {
   "cell_type": "code",
   "execution_count": 21,
   "metadata": {
    "execution": {
     "iopub.execute_input": "2024-03-05T20:09:21.327903Z",
     "iopub.status.busy": "2024-03-05T20:09:21.327388Z",
     "iopub.status.idle": "2024-03-05T20:09:21.796518Z",
     "shell.execute_reply": "2024-03-05T20:09:21.795511Z",
     "shell.execute_reply.started": "2024-03-05T20:09:21.327870Z"
    }
   },
   "outputs": [
    {
     "data": {
      "text/plain": [
       "BertModel(\n",
       "  (embeddings): BertEmbeddings(\n",
       "    (word_embeddings): Embedding(29564, 312, padding_idx=0)\n",
       "    (position_embeddings): Embedding(512, 312)\n",
       "    (token_type_embeddings): Embedding(2, 312)\n",
       "    (LayerNorm): LayerNorm((312,), eps=1e-12, elementwise_affine=True)\n",
       "    (dropout): Dropout(p=0.1, inplace=False)\n",
       "  )\n",
       "  (encoder): BertEncoder(\n",
       "    (layer): ModuleList(\n",
       "      (0-2): 3 x BertLayer(\n",
       "        (attention): BertAttention(\n",
       "          (self): BertSelfAttention(\n",
       "            (query): Linear(in_features=312, out_features=312, bias=True)\n",
       "            (key): Linear(in_features=312, out_features=312, bias=True)\n",
       "            (value): Linear(in_features=312, out_features=312, bias=True)\n",
       "            (dropout): Dropout(p=0.1, inplace=False)\n",
       "          )\n",
       "          (output): BertSelfOutput(\n",
       "            (dense): Linear(in_features=312, out_features=312, bias=True)\n",
       "            (LayerNorm): LayerNorm((312,), eps=1e-12, elementwise_affine=True)\n",
       "            (dropout): Dropout(p=0.1, inplace=False)\n",
       "          )\n",
       "        )\n",
       "        (intermediate): BertIntermediate(\n",
       "          (dense): Linear(in_features=312, out_features=600, bias=True)\n",
       "          (intermediate_act_fn): GELUActivation()\n",
       "        )\n",
       "        (output): BertOutput(\n",
       "          (dense): Linear(in_features=600, out_features=312, bias=True)\n",
       "          (LayerNorm): LayerNorm((312,), eps=1e-12, elementwise_affine=True)\n",
       "          (dropout): Dropout(p=0.1, inplace=False)\n",
       "        )\n",
       "      )\n",
       "    )\n",
       "  )\n",
       "  (pooler): BertPooler(\n",
       "    (dense): Linear(in_features=312, out_features=312, bias=True)\n",
       "    (activation): Tanh()\n",
       "  )\n",
       ")"
      ]
     },
     "execution_count": 21,
     "metadata": {},
     "output_type": "execute_result"
    }
   ],
   "source": [
    "MODEL_MAX_LENGTH = 512 # длина контекста, можно взять из конфига модели-учителя: https://huggingface.co/google-bert/bert-base-multilingual-cased/blob/main/config.json\n",
    "\n",
    "rubert_tokenizer = AutoTokenizer.from_pretrained(\"cointegrated/rubert-tiny\")\n",
    "rubert_model = AutoModel.from_pretrained(\"cointegrated/rubert-tiny\")\n",
    "\n",
    "# rubert_tokenizer = AutoTokenizer.from_pretrained(\"ai-forever/ruBert-large\", model_max_length=MODEL_MAX_LENGTH)\n",
    "# rubert_model = AutoModel.from_pretrained(\"ai-forever/ruBert-large\")\n",
    "\n",
    "rubert_model.cuda() # иначе слишком долго считать"
   ]
  },
  {
   "cell_type": "code",
   "execution_count": 22,
   "metadata": {
    "execution": {
     "iopub.execute_input": "2024-03-05T20:09:23.953600Z",
     "iopub.status.busy": "2024-03-05T20:09:23.953233Z",
     "iopub.status.idle": "2024-03-05T20:09:23.960569Z",
     "shell.execute_reply": "2024-03-05T20:09:23.959152Z",
     "shell.execute_reply.started": "2024-03-05T20:09:23.953574Z"
    }
   },
   "outputs": [],
   "source": [
    "TEXT_BATCH_SIZE = 64 # по 64 текста одновременно прогоняем через BERT\n",
    "\n",
    "def precalc_embeddings(texts, model, tokenizer, mode):\n",
    "    embeddings = []\n",
    "    for start_num in tqdm(range(0, len(texts), TEXT_BATCH_SIZE)):\n",
    "        text_batch = texts[start_num: start_num + TEXT_BATCH_SIZE]\n",
    "        emb_output = embed_bert_cls(text_batch, model, tokenizer, mode = mode)\n",
    "        embeddings.append(emb_output)\n",
    "\n",
    "    embeddings = np.concatenate(embeddings)\n",
    "    return embeddings"
   ]
  },
  {
   "cell_type": "code",
   "execution_count": 23,
   "metadata": {
    "execution": {
     "iopub.execute_input": "2024-03-05T20:09:25.236617Z",
     "iopub.status.busy": "2024-03-05T20:09:25.235748Z",
     "iopub.status.idle": "2024-03-05T20:09:30.431686Z",
     "shell.execute_reply": "2024-03-05T20:09:30.430694Z",
     "shell.execute_reply.started": "2024-03-05T20:09:25.236583Z"
    }
   },
   "outputs": [
    {
     "data": {
      "application/vnd.jupyter.widget-view+json": {
       "model_id": "7a3cd385246248068c1c6805599ae9f5",
       "version_major": 2,
       "version_minor": 0
      },
      "text/plain": [
       "  0%|          | 0/16 [00:00<?, ?it/s]"
      ]
     },
     "metadata": {},
     "output_type": "display_data"
    }
   ],
   "source": [
    "embeddings = precalc_embeddings(test_texts, rubert_model, rubert_tokenizer, mode='cls')"
   ]
  },
  {
   "cell_type": "code",
   "execution_count": 24,
   "metadata": {
    "execution": {
     "iopub.execute_input": "2024-03-05T20:09:30.433914Z",
     "iopub.status.busy": "2024-03-05T20:09:30.433561Z",
     "iopub.status.idle": "2024-03-05T20:09:30.440575Z",
     "shell.execute_reply": "2024-03-05T20:09:30.439557Z",
     "shell.execute_reply.started": "2024-03-05T20:09:30.433887Z"
    }
   },
   "outputs": [
    {
     "data": {
      "text/plain": [
       "'Врачи предупредили об опасности ожирения при COVID-19 '"
      ]
     },
     "execution_count": 24,
     "metadata": {},
     "output_type": "execute_result"
    }
   ],
   "source": [
    "pos = 10\n",
    "test_headlines[pos]"
   ]
  },
  {
   "cell_type": "code",
   "execution_count": 25,
   "metadata": {
    "execution": {
     "iopub.execute_input": "2024-03-05T20:09:30.442005Z",
     "iopub.status.busy": "2024-03-05T20:09:30.441734Z",
     "iopub.status.idle": "2024-03-05T20:09:30.458231Z",
     "shell.execute_reply": "2024-03-05T20:09:30.457060Z",
     "shell.execute_reply.started": "2024-03-05T20:09:30.441981Z"
    }
   },
   "outputs": [
    {
     "data": {
      "text/plain": [
       "(1, 1000)"
      ]
     },
     "execution_count": 25,
     "metadata": {},
     "output_type": "execute_result"
    }
   ],
   "source": [
    "sims = cosine_similarity(embeddings[pos][None, :], embeddings) #embeddings[pos + 1:])\n",
    "sims.shape"
   ]
  },
  {
   "cell_type": "code",
   "execution_count": 26,
   "metadata": {
    "execution": {
     "iopub.execute_input": "2024-03-05T20:09:30.461995Z",
     "iopub.status.busy": "2024-03-05T20:09:30.460794Z",
     "iopub.status.idle": "2024-03-05T20:09:30.470591Z",
     "shell.execute_reply": "2024-03-05T20:09:30.469422Z",
     "shell.execute_reply.started": "2024-03-05T20:09:30.461947Z"
    }
   },
   "outputs": [],
   "source": [
    "most_similar = sorted( list(zip(sims[0], np.arange(sims.shape[1]))) , reverse=True)"
   ]
  },
  {
   "cell_type": "code",
   "execution_count": 27,
   "metadata": {
    "execution": {
     "iopub.execute_input": "2024-03-05T20:09:31.680458Z",
     "iopub.status.busy": "2024-03-05T20:09:31.679779Z",
     "iopub.status.idle": "2024-03-05T20:09:31.686798Z",
     "shell.execute_reply": "2024-03-05T20:09:31.685794Z",
     "shell.execute_reply.started": "2024-03-05T20:09:31.680426Z"
    }
   },
   "outputs": [
    {
     "data": {
      "text/plain": [
       "(1.0000002, 10)"
      ]
     },
     "execution_count": 27,
     "metadata": {},
     "output_type": "execute_result"
    }
   ],
   "source": [
    "most_similar[0] # естественно, самый близкий текст к исходному - это исходный текст, поэтому его игнорируем"
   ]
  },
  {
   "cell_type": "code",
   "execution_count": null,
   "metadata": {},
   "outputs": [],
   "source": [
    "print('Исходный текст:', test_headlines[pos], '\\n')\n",
    "\n",
    "print('Самые похожие тексты:\\n')\n",
    "for score, index in most_similar[1:5]:\n",
    "    print(f\"Sim={score} \\t\\t {test_headlines[index]}\")\n",
    "    \n",
    "print('\\n', '=' * 30, '\\n')\n",
    "\n",
    "print('Самые непохожие тексты:\\n')\n",
    "for score, index in most_similar[-5:]:\n",
    "    print(f\"Sim={score} \\t\\t {test_headlines[index]}\")"
   ]
  },
  {
   "cell_type": "markdown",
   "metadata": {
    "execution": {
     "iopub.execute_input": "2024-03-05T16:53:19.252781Z",
     "iopub.status.busy": "2024-03-05T16:53:19.252326Z",
     "iopub.status.idle": "2024-03-05T16:53:19.260810Z",
     "shell.execute_reply": "2024-03-05T16:53:19.259115Z",
     "shell.execute_reply.started": "2024-03-05T16:53:19.252744Z"
    }
   },
   "source": [
    "Определите текст, наиболее похожий на исходный текст, с помощью кода ниже. В качестве ответа приведете текст, заключенный внутри знаков знаки <>."
   ]
  },
  {
   "cell_type": "code",
   "execution_count": null,
   "metadata": {},
   "outputs": [],
   "source": [
    "print( f'Ответ: <{test_headlines[most_similar[1][1]].strip()}>' )"
   ]
  },
  {
   "cell_type": "markdown",
   "metadata": {},
   "source": [
    "При том, что в тексте большая часть заголовков про политику, с помощью BERT-эмбеддингов мы без труда нашли несколько текстов, похожих на исходный - по тематике ковида"
   ]
  },
  {
   "cell_type": "markdown",
   "metadata": {},
   "source": [
    "Аналогично можно усреднять выходные эмбеддинги (не считая pad-токена). В данном случае, результат будет похожий (но заметьте, что при этом топ-5 отличается).\n",
    "\n",
    "Качество при разных способах получения эмбеддингов в данном случае особо не меняется из-за того, что [CLS] токен в исходной модели (учителе) обучался на задачу NSP. Если бы мы имели дело с RoBERT-a подобной моделью, то эмбеддинг [CLS]-токена из последнего слоя извлекал бы \"более рандомные\" признаки - ведь он ни на что не обучался во время претрейна, поэтому этот эмбеддинг агрегирует в себе эмбеддинги всех токенов из предпоследнего слоя (вспомните как работает self-attention)"
   ]
  },
  {
   "cell_type": "code",
   "execution_count": null,
   "metadata": {},
   "outputs": [],
   "source": [
    "embeddings = precalc_embeddings(test_texts, rubert_model, rubert_tokenizer, mode='mean')\n",
    "\n",
    "pos = 10\n",
    "sims = cosine_similarity(embeddings[pos][None, :], embeddings) #embeddings[pos + 1:])\n",
    "most_similar = sorted( list(zip(sims[0], np.arange(sims.shape[1]))) , reverse=True)\n",
    "\n",
    "print('Исходный текст:', test_headlines[pos], '\\n')\n",
    "\n",
    "print('Самые похожие тексты:\\n')\n",
    "for score, index in most_similar[1:5]:\n",
    "    print(f\"Sim={score} \\t\\t {test_headlines[index]}\")\n",
    "    \n",
    "print('\\n', '=' * 30, '\\n')\n",
    "\n",
    "print('Самые непохожие тексты:\\n')\n",
    "for score, index in most_similar[-5:]:\n",
    "    print(f\"Sim={score} \\t\\t {test_headlines[index]}\")"
   ]
  },
  {
   "cell_type": "markdown",
   "metadata": {},
   "source": [
    "## 4 - важность домена, на котором обучалась претрейн-модель"
   ]
  },
  {
   "cell_type": "code",
   "execution_count": 31,
   "metadata": {
    "execution": {
     "iopub.execute_input": "2024-03-05T20:10:07.463481Z",
     "iopub.status.busy": "2024-03-05T20:10:07.463070Z",
     "iopub.status.idle": "2024-03-05T20:10:07.468337Z",
     "shell.execute_reply": "2024-03-05T20:10:07.467291Z",
     "shell.execute_reply.started": "2024-03-05T20:10:07.463450Z"
    }
   },
   "outputs": [],
   "source": [
    "del model\n",
    "del rubert_model"
   ]
  },
  {
   "cell_type": "code",
   "execution_count": 32,
   "metadata": {
    "execution": {
     "iopub.execute_input": "2024-03-05T20:10:08.933070Z",
     "iopub.status.busy": "2024-03-05T20:10:08.932704Z",
     "iopub.status.idle": "2024-03-05T20:10:09.505193Z",
     "shell.execute_reply": "2024-03-05T20:10:09.503869Z",
     "shell.execute_reply.started": "2024-03-05T20:10:08.933043Z"
    }
   },
   "outputs": [
    {
     "name": "stderr",
     "output_type": "stream",
     "text": [
      "Some weights of RobertaModel were not initialized from the model checkpoint at FacebookAI/roberta-base and are newly initialized: ['roberta.pooler.dense.bias', 'roberta.pooler.dense.weight']\n",
      "You should probably TRAIN this model on a down-stream task to be able to use it for predictions and inference.\n"
     ]
    },
    {
     "data": {
      "text/plain": [
       "RobertaModel(\n",
       "  (embeddings): RobertaEmbeddings(\n",
       "    (word_embeddings): Embedding(50265, 768, padding_idx=1)\n",
       "    (position_embeddings): Embedding(514, 768, padding_idx=1)\n",
       "    (token_type_embeddings): Embedding(1, 768)\n",
       "    (LayerNorm): LayerNorm((768,), eps=1e-05, elementwise_affine=True)\n",
       "    (dropout): Dropout(p=0.1, inplace=False)\n",
       "  )\n",
       "  (encoder): RobertaEncoder(\n",
       "    (layer): ModuleList(\n",
       "      (0-11): 12 x RobertaLayer(\n",
       "        (attention): RobertaAttention(\n",
       "          (self): RobertaSelfAttention(\n",
       "            (query): Linear(in_features=768, out_features=768, bias=True)\n",
       "            (key): Linear(in_features=768, out_features=768, bias=True)\n",
       "            (value): Linear(in_features=768, out_features=768, bias=True)\n",
       "            (dropout): Dropout(p=0.1, inplace=False)\n",
       "          )\n",
       "          (output): RobertaSelfOutput(\n",
       "            (dense): Linear(in_features=768, out_features=768, bias=True)\n",
       "            (LayerNorm): LayerNorm((768,), eps=1e-05, elementwise_affine=True)\n",
       "            (dropout): Dropout(p=0.1, inplace=False)\n",
       "          )\n",
       "        )\n",
       "        (intermediate): RobertaIntermediate(\n",
       "          (dense): Linear(in_features=768, out_features=3072, bias=True)\n",
       "          (intermediate_act_fn): GELUActivation()\n",
       "        )\n",
       "        (output): RobertaOutput(\n",
       "          (dense): Linear(in_features=3072, out_features=768, bias=True)\n",
       "          (LayerNorm): LayerNorm((768,), eps=1e-05, elementwise_affine=True)\n",
       "          (dropout): Dropout(p=0.1, inplace=False)\n",
       "        )\n",
       "      )\n",
       "    )\n",
       "  )\n",
       "  (pooler): RobertaPooler(\n",
       "    (dense): Linear(in_features=768, out_features=768, bias=True)\n",
       "    (activation): Tanh()\n",
       "  )\n",
       ")"
      ]
     },
     "execution_count": 32,
     "metadata": {},
     "output_type": "execute_result"
    }
   ],
   "source": [
    "MODEL_MAX_LENGTH = 512 # длина контекста, можно взять из конфига модели-учителя: https://huggingface.co/google-bert/bert-base-multilingual-cased/blob/main/config.json\n",
    "\n",
    "en_roberta_tokenizer = AutoTokenizer.from_pretrained('FacebookAI/roberta-base')\n",
    "en_roberta_model = AutoModel.from_pretrained('FacebookAI/roberta-base')\n",
    "\n",
    "en_roberta_model.cuda() # иначе слишком долго считать"
   ]
  },
  {
   "cell_type": "code",
   "execution_count": null,
   "metadata": {},
   "outputs": [],
   "source": [
    "embeddings = precalc_embeddings(test_texts, en_roberta_model, en_roberta_tokenizer, mode='cls')\n",
    "\n",
    "pos = 10\n",
    "sims = cosine_similarity(embeddings[pos][None, :], embeddings)\n",
    "most_similar = sorted( list(zip(sims[0], np.arange(sims.shape[1]))) , reverse=True)\n",
    "\n",
    "print('Исходный текст:', test_headlines[pos], '\\n')\n",
    "\n",
    "print('Самые похожие тексты:\\n')\n",
    "for score, index in most_similar[1:5]:\n",
    "    print(f\"Sim={score} \\t\\t {test_headlines[index]}\")\n",
    "    \n",
    "print('\\n', '=' * 30, '\\n')\n",
    "\n",
    "print('Самые непохожие тексты:\\n')\n",
    "for score, index in most_similar[-5:]:\n",
    "    print(f\"Sim={score} \\t\\t {test_headlines[index]}\")"
   ]
  },
  {
   "cell_type": "code",
   "execution_count": null,
   "metadata": {},
   "outputs": [],
   "source": [
    "embeddings = precalc_embeddings(test_texts, en_roberta_model, en_roberta_tokenizer, mode='mean')\n",
    "\n",
    "pos = 10\n",
    "sims = cosine_similarity(embeddings[pos][None, :], embeddings)\n",
    "most_similar = sorted( list(zip(sims[0], np.arange(sims.shape[1]))) , reverse=True)\n",
    "\n",
    "print('Исходный текст:', test_headlines[pos], '\\n')\n",
    "\n",
    "print('Самые похожие тексты:\\n')\n",
    "for score, index in most_similar[1:5]:\n",
    "    print(f\"Sim={score} \\t\\t {test_headlines[index]}\")\n",
    "    \n",
    "print('\\n', '=' * 30, '\\n')\n",
    "\n",
    "print('Самые непохожие тексты:\\n')\n",
    "for score, index in most_similar[-5:]:\n",
    "    print(f\"Sim={score} \\t\\t {test_headlines[index]}\")"
   ]
  },
  {
   "cell_type": "markdown",
   "metadata": {},
   "source": [
    "Определите текст, наиболее похожий на исходный текст, с помощью кода ниже (используйте режим \"mean\" при подсчете эмбеддингов). В качестве ответа приведете текст, заключенный внутри знаков знаки <>."
   ]
  },
  {
   "cell_type": "code",
   "execution_count": null,
   "metadata": {},
   "outputs": [],
   "source": [
    "print( f'Ответ: <{test_headlines[most_similar[1][1]].strip()}>' )"
   ]
  },
  {
   "cell_type": "markdown",
   "metadata": {},
   "source": [
    "Как мы видим, тексты не то чтобы похожи, хотя датасет тот же самый. Это связано с тем, что RoBERTa, загруженная выше, обучалась на другом домене (преимущественно на англоязычных текстах), из-за чего на домене русскоязычных текстов эмбеддинги получаются так себе.\n",
    "\n",
    "Попробуем перевести самые похожие тексты для rubert-tiny и для roberta с русского на английский, и попробуем теперь посмотреть, какие тексты окажутся похожими"
   ]
  },
  {
   "cell_type": "code",
   "execution_count": 36,
   "metadata": {
    "execution": {
     "iopub.execute_input": "2024-03-05T20:11:24.599430Z",
     "iopub.status.busy": "2024-03-05T20:11:24.598787Z",
     "iopub.status.idle": "2024-03-05T20:11:24.691418Z",
     "shell.execute_reply": "2024-03-05T20:11:24.690420Z",
     "shell.execute_reply.started": "2024-03-05T20:11:24.599365Z"
    }
   },
   "outputs": [
    {
     "data": {
      "application/vnd.jupyter.widget-view+json": {
       "model_id": "77ae5ba77b2a433a94eed5329cf5bce0",
       "version_major": 2,
       "version_minor": 0
      },
      "text/plain": [
       "  0%|          | 0/1 [00:00<?, ?it/s]"
      ]
     },
     "metadata": {},
     "output_type": "display_data"
    },
    {
     "name": "stdout",
     "output_type": "stream",
     "text": [
      "Исходный текст: Doctors warned of the dangers of obesity in COVID-19 \n",
      "\n",
      "Самые похожие тексты:\n",
      "\n",
      "Sim=0.9816614985466003 \t\t Scientists told about the danger of coronavirus for pregnant women\n",
      "Sim=0.9793349504470825 \t\t A new dangerous consequence of COVID-19 has been discovered\n",
      "Sim=0.977390706539154 \t\t A factor significantly reducing mortality from COVID-19 has been named\n",
      "Sim=0.9762434959411621 \t\t Scientists: glasses wearers suffer from COVID-19 five times less often\n",
      "\n",
      " ============================== \n",
      "\n",
      "Самые непохожие тексты:\n",
      "\n",
      "Sim=0.9704751372337341 \t\t Pamfilova announced the full readiness of the electoral system for the elections\n",
      "Sim=0.9676637053489685 \t\t The programmer launched Doom and Skyrim on a pregnancy test\n",
      "Sim=0.9599279165267944 \t\t The Ministry of Defense has revealed details of joint exercises between Russia and Belarus\n",
      "Sim=0.959205687046051 \t\t The EU has agreed to expand the list of sanctions against the Russian Federation for the Crimean Bridge\n",
      "Sim=0.956506609916687 \t\t Roscosmos has agreed with a private firm to build a competitor to Musk's ship\n"
     ]
    }
   ],
   "source": [
    "translated_news = [\n",
    "\"The EU has agreed to expand the list of sanctions against the Russian Federation for the Crimean Bridge\",\n",
    "\"Roscosmos has agreed with a private firm to build a competitor to Musk's ship\",\n",
    "\"The Ministry of Defense has revealed details of joint exercises between Russia and Belarus\",\n",
    "\"Pamfilova announced the full readiness of the electoral system for the elections\",\n",
    "\"The programmer launched Doom and Skyrim on a pregnancy test\",\n",
    "\n",
    "\"Doctors warned of the dangers of obesity in COVID-19\",\n",
    "\"A factor significantly reducing mortality from COVID-19 has been named\",\n",
    "\"Scientists: glasses wearers suffer from COVID-19 five times less often\",\n",
    "\"Scientists told about the danger of coronavirus for pregnant women\",\n",
    "\"A new dangerous consequence of COVID-19 has been discovered\"\n",
    "]\n",
    "\n",
    "test_headlines = translated_news\n",
    "\n",
    "embeddings = precalc_embeddings(test_headlines, en_roberta_model, en_roberta_tokenizer, mode='mean')\n",
    "\n",
    "pos = 5\n",
    "sims = cosine_similarity(embeddings[pos][None, :], embeddings) #embeddings[pos + 1:])\n",
    "most_similar = sorted( list(zip(sims[0], np.arange(sims.shape[1]))) , reverse=True)\n",
    "\n",
    "print('Исходный текст:', test_headlines[pos], '\\n')\n",
    "\n",
    "print('Самые похожие тексты:\\n')\n",
    "for score, index in most_similar[1:5]:\n",
    "    print(f\"Sim={score} \\t\\t {test_headlines[index]}\")\n",
    "    \n",
    "print('\\n', '=' * 30, '\\n')\n",
    "\n",
    "print('Самые непохожие тексты:\\n')\n",
    "for score, index in most_similar[-5:]:\n",
    "    print(f\"Sim={score} \\t\\t {test_headlines[index]}\")"
   ]
  },
  {
   "cell_type": "markdown",
   "metadata": {},
   "source": [
    "Теперь самые похожие тексты действительно похожи на исходный - потому что рабоатет в том же домене, в котором обучаласт претрейн-модель"
   ]
  },
  {
   "cell_type": "markdown",
   "metadata": {},
   "source": [
    "## 5 - finetuning"
   ]
  },
  {
   "cell_type": "markdown",
   "metadata": {},
   "source": [
    "В качестве датасета возьмем датасет неуместных запросов на русском языке (120к текстов). 1 - запрос неуместный, 0 - уместный.\n",
    "\n",
    "Датасет: https://www.kaggle.com/datasets/nigula/russianinappropriatemessages\n",
    "\n",
    "Можно добавить этот датасет в Kaggle через \"add input\" в правой панели, либо просто скачать и поменять путь к нему в коде ниже.\n",
    "\n",
    "Будем решать важную задачу фильтрации запросов для генеративных моделей - фильтрация некорректных запросов. Отвечать на такие запросы с помощью генеративной модели опасно - можно навредить пользователю, поэтому задача - отбивать подобные запросы с помощью классификатора."
   ]
  },
  {
   "cell_type": "markdown",
   "metadata": {},
   "source": [
    "Ниже описана подготовка данных, а также инициализация токенизатора и BERT-модели - всё как на семинаре."
   ]
  },
  {
   "cell_type": "code",
   "execution_count": 37,
   "metadata": {
    "execution": {
     "iopub.execute_input": "2024-03-05T20:11:32.927220Z",
     "iopub.status.busy": "2024-03-05T20:11:32.926262Z",
     "iopub.status.idle": "2024-03-05T20:11:35.578765Z",
     "shell.execute_reply": "2024-03-05T20:11:35.577922Z",
     "shell.execute_reply.started": "2024-03-05T20:11:32.927184Z"
    }
   },
   "outputs": [
    {
     "name": "stderr",
     "output_type": "stream",
     "text": [
      "2024-03-05 20:11:33.334901: E external/local_xla/xla/stream_executor/cuda/cuda_dnn.cc:9261] Unable to register cuDNN factory: Attempting to register factory for plugin cuDNN when one has already been registered\n",
      "2024-03-05 20:11:33.334961: E external/local_xla/xla/stream_executor/cuda/cuda_fft.cc:607] Unable to register cuFFT factory: Attempting to register factory for plugin cuFFT when one has already been registered\n",
      "2024-03-05 20:11:33.336506: E external/local_xla/xla/stream_executor/cuda/cuda_blas.cc:1515] Unable to register cuBLAS factory: Attempting to register factory for plugin cuBLAS when one has already been registered\n"
     ]
    }
   ],
   "source": [
    "import pandas as pd\n",
    "import numpy as np\n",
    "import random\n",
    "import torch\n",
    "import transformers\n",
    "import torch.nn as nn\n",
    "from transformers import AutoModel, BertTokenizer, BertForSequenceClassification\n",
    "from transformers import TrainingArguments, Trainer\n",
    "from datasets import load_metric, Dataset\n",
    "from sklearn.metrics import classification_report, f1_score\n",
    "from sklearn.model_selection import train_test_split\n",
    "import seaborn as sns \n",
    "from sklearn.metrics import f1_score"
   ]
  },
  {
   "cell_type": "code",
   "execution_count": 38,
   "metadata": {
    "execution": {
     "iopub.execute_input": "2024-03-05T20:11:35.580532Z",
     "iopub.status.busy": "2024-03-05T20:11:35.580209Z",
     "iopub.status.idle": "2024-03-05T20:11:37.108150Z",
     "shell.execute_reply": "2024-03-05T20:11:37.107095Z",
     "shell.execute_reply.started": "2024-03-05T20:11:35.580505Z"
    }
   },
   "outputs": [
    {
     "name": "stderr",
     "output_type": "stream",
     "text": [
      "/tmp/ipykernel_146707/1230382672.py:5: UserWarning: \n",
      "\n",
      "`distplot` is a deprecated function and will be removed in seaborn v0.14.0.\n",
      "\n",
      "Please adapt your code to use either `displot` (a figure-level function with\n",
      "similar flexibility) or `histplot` (an axes-level function for histograms).\n",
      "\n",
      "For a guide to updating your code to use the new functions, please see\n",
      "https://gist.github.com/mwaskom/de44147ed2974457ad6372750bbe5751\n",
      "\n",
      "  sns.distplot(df['inappropriate'])\n",
      "/opt/conda/lib/python3.10/site-packages/seaborn/_oldcore.py:1119: FutureWarning: use_inf_as_na option is deprecated and will be removed in a future version. Convert inf values to NaN before operating instead.\n",
      "  with pd.option_context('mode.use_inf_as_na', True):\n"
     ]
    },
    {
     "data": {
      "text/plain": [
       "<Axes: xlabel='inappropriate', ylabel='Density'>"
      ]
     },
     "execution_count": 38,
     "metadata": {},
     "output_type": "execute_result"
    },
    {
     "data": {
      "image/png": "[encoded data removed]",
      "text/plain": [
       "<Figure size 640x480 with 1 Axes>"
      ]
     },
     "metadata": {},
     "output_type": "display_data"
    }
   ],
   "source": [
    "data_path = '/kaggle/input/russianinappropriatemessages/Inappapropriate_messages.csv'\n",
    "\n",
    "df = pd.read_csv(data_path)\n",
    "\n",
    "sns.distplot(df['inappropriate'])"
   ]
  },
  {
   "cell_type": "code",
   "execution_count": 39,
   "metadata": {
    "execution": {
     "iopub.execute_input": "2024-03-05T20:11:37.110237Z",
     "iopub.status.busy": "2024-03-05T20:11:37.109918Z",
     "iopub.status.idle": "2024-03-05T20:11:37.618766Z",
     "shell.execute_reply": "2024-03-05T20:11:37.617853Z",
     "shell.execute_reply.started": "2024-03-05T20:11:37.110209Z"
    }
   },
   "outputs": [],
   "source": [
    "df = pd.read_csv(data_path)\n",
    "df.rename({'inappropriate': 'target'}, axis=1, inplace=True)\n",
    "df['target'] = (df['target'] >= 0.5).astype(int)\n",
    "\n",
    "TEST_SIZE = 0.2\n",
    "\n",
    "train_df, test_df = train_test_split(df, test_size=TEST_SIZE)\n",
    "\n",
    "train_df.reset_index(drop=True, inplace=True)\n",
    "test_df.reset_index(drop=True, inplace=True)\n",
    "\n",
    "train_text = train_df['text'].astype(str)\n",
    "train_labels = train_df['target']\n",
    "\n",
    "test_text = test_df['text'].astype(str)\n",
    "test_labels = test_df['target']"
   ]
  },
  {
   "cell_type": "code",
   "execution_count": 40,
   "metadata": {
    "execution": {
     "iopub.execute_input": "2024-03-05T20:11:37.620214Z",
     "iopub.status.busy": "2024-03-05T20:11:37.619903Z",
     "iopub.status.idle": "2024-03-05T20:11:37.629675Z",
     "shell.execute_reply": "2024-03-05T20:11:37.628664Z",
     "shell.execute_reply.started": "2024-03-05T20:11:37.620189Z"
    }
   },
   "outputs": [
    {
     "data": {
      "text/plain": [
       "target\n",
       "0    91448\n",
       "1    33149\n",
       "Name: count, dtype: int64"
      ]
     },
     "execution_count": 40,
     "metadata": {},
     "output_type": "execute_result"
    }
   ],
   "source": [
    "df['target'].value_counts()"
   ]
  },
  {
   "cell_type": "code",
   "execution_count": 41,
   "metadata": {
    "execution": {
     "iopub.execute_input": "2024-03-05T20:11:37.632876Z",
     "iopub.status.busy": "2024-03-05T20:11:37.631846Z",
     "iopub.status.idle": "2024-03-05T20:11:37.641600Z",
     "shell.execute_reply": "2024-03-05T20:11:37.640659Z",
     "shell.execute_reply.started": "2024-03-05T20:11:37.632842Z"
    }
   },
   "outputs": [
    {
     "data": {
      "text/plain": [
       "(99677, 99677, 24920, 24920)"
      ]
     },
     "execution_count": 41,
     "metadata": {},
     "output_type": "execute_result"
    }
   ],
   "source": [
    "len(train_text), len(train_labels), len(test_text), len(test_labels)"
   ]
  },
  {
   "cell_type": "code",
   "execution_count": 42,
   "metadata": {
    "execution": {
     "iopub.execute_input": "2024-03-05T20:11:37.642989Z",
     "iopub.status.busy": "2024-03-05T20:11:37.642707Z",
     "iopub.status.idle": "2024-03-05T20:13:08.747272Z",
     "shell.execute_reply": "2024-03-05T20:13:08.746313Z",
     "shell.execute_reply.started": "2024-03-05T20:11:37.642954Z"
    }
   },
   "outputs": [
    {
     "name": "stdout",
     "output_type": "stream",
     "text": [
      "99677 24920\n"
     ]
    }
   ],
   "source": [
    "tokenizer = BertTokenizer.from_pretrained('cointegrated/rubert-tiny2')\n",
    "\n",
    "\n",
    "seq_len_train = [len(str(i).split()) for i in train_df['text']]\n",
    "seq_len_test = [len(str(i).split()) for i in test_df['text']]\n",
    "max_seq_len = min(512, max(max(seq_len_test), max(seq_len_train)))\n",
    "max_seq_len\n",
    "\n",
    "\n",
    "tokens_train = tokenizer.batch_encode_plus(\n",
    "    train_text.values,\n",
    "    max_length = max_seq_len,\n",
    "    padding = 'max_length',\n",
    "    truncation = True\n",
    ")\n",
    "\n",
    "tokens_test = tokenizer.batch_encode_plus(\n",
    "    test_text.values,\n",
    "    max_length = max_seq_len,\n",
    "    padding = 'max_length',\n",
    "    truncation = True\n",
    ")\n",
    "\n",
    "\n",
    "class Data(torch.utils.data.Dataset):\n",
    "    def __init__(self, encodings, labels):\n",
    "        self.encodings = encodings\n",
    "        self.labels = labels\n",
    "        \n",
    "    def __getitem__(self, idx):\n",
    "        item = {k: torch.tensor(v[idx]) for k, v in self.encodings.items()}\n",
    "        item[\"labels\"] = torch.tensor([self.labels[idx]])\n",
    "        return item\n",
    "    def __len__(self):\n",
    "        return len(self.labels)\n",
    "    \n",
    "train_dataset = Data(tokens_train, train_labels)\n",
    "test_dataset = Data(tokens_test, test_labels)\n",
    "\n",
    "print(len(train_dataset), len(test_dataset))"
   ]
  },
  {
   "cell_type": "code",
   "execution_count": 43,
   "metadata": {
    "execution": {
     "iopub.execute_input": "2024-03-05T20:13:08.749456Z",
     "iopub.status.busy": "2024-03-05T20:13:08.749146Z",
     "iopub.status.idle": "2024-03-05T20:13:08.754828Z",
     "shell.execute_reply": "2024-03-05T20:13:08.753844Z",
     "shell.execute_reply.started": "2024-03-05T20:13:08.749430Z"
    }
   },
   "outputs": [],
   "source": [
    "def compute_metrics(pred):\n",
    "    labels = pred.label_ids\n",
    "    preds = pred.predictions.argmax(-1)\n",
    "    f1 = f1_score(labels, preds)\n",
    "    return {'F1': f1}"
   ]
  },
  {
   "cell_type": "code",
   "execution_count": 44,
   "metadata": {
    "execution": {
     "iopub.execute_input": "2024-03-05T20:13:08.756488Z",
     "iopub.status.busy": "2024-03-05T20:13:08.756172Z",
     "iopub.status.idle": "2024-03-05T20:13:08.767573Z",
     "shell.execute_reply": "2024-03-05T20:13:08.766620Z",
     "shell.execute_reply.started": "2024-03-05T20:13:08.756454Z"
    }
   },
   "outputs": [],
   "source": [
    "# для воспроизводимости результатов\n",
    "def seed_all(seed_value):\n",
    "    random.seed(seed_value)\n",
    "    np.random.seed(seed_value)\n",
    "    torch.manual_seed(seed_value)\n",
    "    if torch.cuda.is_available():\n",
    "        torch.cuda.manual_seed(seed_value)\n",
    "        torch.cuda.manual_seed_all(seed_value)\n",
    "        torch.backends.cudnn.benchmark = True\n",
    "        torch.backends.cudnn.deterministic = False"
   ]
  },
  {
   "cell_type": "markdown",
   "metadata": {},
   "source": [
    "Берем предобученную русскоязычную модель и с помощью hugginface запускаем дообучение под нашу целевую задачу. Обучаем 1 эпоху, чтобы убедиться что всё работает. В Kaggle одна эпоха проходит примерно за 20 минут. Hugginface в процессе обучения рисует после каждой эпохи табличку, в которой показываем качество модели на данном этапе. В данном случае в качестве метрики мы используем f1-score в задаче бинарной классификации, поставленной выше."
   ]
  },
  {
   "cell_type": "code",
   "execution_count": 10,
   "metadata": {
    "execution": {
     "iopub.execute_input": "2024-03-05T18:34:00.462227Z",
     "iopub.status.busy": "2024-03-05T18:34:00.461910Z",
     "iopub.status.idle": "2024-03-05T18:51:23.167411Z",
     "shell.execute_reply": "2024-03-05T18:51:23.166442Z",
     "shell.execute_reply.started": "2024-03-05T18:34:00.462202Z"
    }
   },
   "outputs": [
    {
     "name": "stderr",
     "output_type": "stream",
     "text": [
      "Some weights of BertForSequenceClassification were not initialized from the model checkpoint at cointegrated/rubert-tiny2 and are newly initialized: ['classifier.bias', 'classifier.weight']\n",
      "You should probably TRAIN this model on a down-stream task to be able to use it for predictions and inference.\n",
      "/opt/conda/lib/python3.10/site-packages/torch/nn/parallel/_functions.py:68: UserWarning: Was asked to gather along dimension 0, but all input tensors were scalars; will instead unsqueeze and return a vector.\n",
      "  warnings.warn('Was asked to gather along dimension 0, but all '\n"
     ]
    },
    {
     "data": {
      "text/html": [
       "\n",
       "    <div>\n",
       "      \n",
       "      <progress value='6230' max='6230' style='width:300px; height:20px; vertical-align: middle;'></progress>\n",
       "      [6230/6230 17:18, Epoch 1/1]\n",
       "    </div>\n",
       "    <table border=\"1\" class=\"dataframe\">\n",
       "  <thead>\n",
       " <tr style=\"text-align: left;\">\n",
       "      <th>Epoch</th>\n",
       "      <th>Training Loss</th>\n",
       "      <th>Validation Loss</th>\n",
       "      <th>F1</th>\n",
       "    </tr>\n",
       "  </thead>\n",
       "  <tbody>\n",
       "    <tr>\n",
       "      <td>1</td>\n",
       "      <td>0.436800</td>\n",
       "      <td>0.387233</td>\n",
       "      <td>0.654412</td>\n",
       "    </tr>\n",
       "  </tbody>\n",
       "</table><p>"
      ],
      "text/plain": [
       "<IPython.core.display.HTML object>"
      ]
     },
     "metadata": {},
     "output_type": "display_data"
    },
    {
     "name": "stderr",
     "output_type": "stream",
     "text": [
      "Checkpoint destination directory ./results/checkpoint-6230 already exists and is non-empty. Saving will proceed but saved results may be invalid.\n"
     ]
    },
    {
     "data": {
      "text/plain": [
       "TrainOutput(global_step=6230, training_loss=0.4368267910438403, metrics={'train_runtime': 1040.7025, 'train_samples_per_second': 95.779, 'train_steps_per_second': 5.986, 'total_flos': 735038828746752.0, 'train_loss': 0.4368267910438403, 'epoch': 1.0})"
      ]
     },
     "execution_count": 10,
     "metadata": {},
     "output_type": "execute_result"
    }
   ],
   "source": [
    "model = BertForSequenceClassification.from_pretrained('cointegrated/rubert-tiny2', num_labels=2).to(\"cuda\")\n",
    "\n",
    "training_args = TrainingArguments(\n",
    "    output_dir = './results', #Выходной каталог\n",
    "    num_train_epochs = 1, # 3, #Кол-во эпох для обучения\n",
    "    per_device_train_batch_size = 8, #Размер батча для каждого устройства во время обучения\n",
    "    per_device_eval_batch_size = 8, #Размер батча для каждого устройства во время валидации\n",
    "    weight_decay = 0.01, # регуляризация\n",
    "    logging_dir = './logs', # Каталог для хранения логов\n",
    "    report_to = 'tensorboard',\n",
    "    load_best_model_at_end = True, # Загружать ли лучшую модель после обучения\n",
    "    learning_rate = 1e-5, # Скорость обучения\n",
    "    evaluation_strategy ='epoch', #Валидация после каждой эпохи (можно сделать после конкретного кол-ва шагов)\n",
    "    logging_strategy = 'epoch', #Логирование после каждой эпохи\n",
    "    save_strategy = 'epoch', #Сохранение после каждой эпохи\n",
    "    save_total_limit = 1,\n",
    "    seed=42)\n",
    "\n",
    "\n",
    "seed_all(42)\n",
    "\n",
    "trainer = Trainer(model=model,\n",
    "                  tokenizer = tokenizer,\n",
    "                  args = training_args,\n",
    "                  train_dataset = train_dataset,\n",
    "                  eval_dataset = train_dataset,\n",
    "                  compute_metrics = compute_metrics)\n",
    "\n",
    "\n",
    "trainer.train()"
   ]
  },
  {
   "cell_type": "code",
   "execution_count": 11,
   "metadata": {
    "execution": {
     "iopub.execute_input": "2024-03-05T18:51:23.168876Z",
     "iopub.status.busy": "2024-03-05T18:51:23.168586Z",
     "iopub.status.idle": "2024-03-05T18:51:23.173335Z",
     "shell.execute_reply": "2024-03-05T18:51:23.172396Z",
     "shell.execute_reply.started": "2024-03-05T18:51:23.168851Z"
    }
   },
   "outputs": [],
   "source": [
    "del model # освободим память и переинициализируем модель, чтобы точно не перепутать"
   ]
  },
  {
   "cell_type": "markdown",
   "metadata": {},
   "source": [
    "Дообучите модель с параметрами ниже. Из нового - обучаем 3 эпохи вместо одной и с большим batch_size. \n",
    "\n",
    "Во время обучения трейнер hugginface отрисовывает таблицу с метриками прсле каждой эпохи. В качестве ответа укажите значение метрики f1 после третьей эпохи, округлив его до третьего знака после запятой с помощью функции round(..., 3). \n",
    "\n",
    "Погрешность ответа в проверяющей системе учитывает возможную случайность, возникающую при обучении. Если вы всё сделали правильно, то ответ, который вы введете, будет засчитан системой как верный."
   ]
  },
  {
   "cell_type": "code",
   "execution_count": null,
   "metadata": {},
   "outputs": [],
   "source": [
    "model = BertForSequenceClassification.from_pretrained('cointegrated/rubert-tiny2', num_labels=2).to(\"cuda\")\n",
    "\n",
    "training_args = TrainingArguments(\n",
    "    num_train_epochs = 3, # 3, #Кол-во эпох для обучения\n",
    "    per_device_train_batch_size = 16, #Размер батча для каждого устройства во время обучения\n",
    "    per_device_eval_batch_size = 16, #Размер батча для каждого устройства во время валидации\n",
    "    seed=42\n",
    "    ...\n",
    ") # заполните остальные параметры как в примере выше\n",
    "\n",
    "\n",
    "seed_all(42)\n",
    "\n",
    "trainer = Trainer( ... ) # заполните как в примере выше\n",
    "\n",
    "\n",
    "trainer.train()"
   ]
  },
  {
   "cell_type": "markdown",
   "metadata": {},
   "source": [
    "## Если вам было мало моделей"
   ]
  },
  {
   "cell_type": "markdown",
   "metadata": {},
   "source": [
    "Тут в посте сделал короткую шпаргалку с ключевыми идеями других трансформерных моделей и их нововведениями относительно оригинального BERT-а. Может быть полезно, чтобы подчерпнуть идеи для собственных моделей либо вспомнить в общих чертах материал перед собеседованиями :) \n",
    "\n",
    "https://t.me/skeptical_research/27"
   ]
  },
  {
   "cell_type": "markdown",
   "metadata": {},
   "source": [
    "## Не забывайте ставить звезды на гитхабе и оставлять обратную связь по лекции и дз!"
   ]
  }
 ],
 "metadata": {
  "kaggle": {
   "accelerator": "nvidiaTeslaT4",
   "dataSources": [
    {
     "datasetId": 1221604,
     "sourceId": 5341757,
     "sourceType": "datasetVersion"
    }
   ],
   "dockerImageVersionId": 30665,
   "isGpuEnabled": true,
   "isInternetEnabled": true,
   "language": "python",
   "sourceType": "notebook"
  },
  "kernelspec": {
   "display_name": "Python 3 (ipykernel)",
   "language": "python",
   "name": "python3"
  },
  "language_info": {
   "codemirror_mode": {
    "name": "ipython",
    "version": 3
   },
   "file_extension": ".py",
   "mimetype": "text/x-python",
   "name": "python",
   "nbconvert_exporter": "python",
   "pygments_lexer": "ipython3",
   "version": "3.8.0"
  },
  "toc": {
   "base_numbering": 1,
   "nav_menu": {},
   "number_sections": true,
   "sideBar": true,
   "skip_h1_title": false,
   "title_cell": "Table of Contents",
   "title_sidebar": "Contents",
   "toc_cell": false,
   "toc_position": {},
   "toc_section_display": true,
   "toc_window_display": false
  }
 },
 "nbformat": 4,
 "nbformat_minor": 4
}
